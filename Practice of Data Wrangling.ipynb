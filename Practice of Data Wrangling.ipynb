{
 "cells": [
  {
   "cell_type": "code",
   "execution_count": 3,
   "id": "3e830243",
   "metadata": {},
   "outputs": [],
   "source": [
    "import pandas as pd\n",
    "import numpy as np"
   ]
  },
  {
   "cell_type": "code",
   "execution_count": 34,
   "id": "5ae2a256",
   "metadata": {},
   "outputs": [],
   "source": [
    "df = pd.read_csv(r'C:\\Users\\kisan\\Downloads\\imdb_data.csv')"
   ]
  },
  {
   "cell_type": "code",
   "execution_count": 5,
   "id": "fbcf7e68",
   "metadata": {},
   "outputs": [],
   "source": [
    "df.drop('id',axis=1,inplace=True)"
   ]
  },
  {
   "cell_type": "code",
   "execution_count": 6,
   "id": "f00a9a28",
   "metadata": {},
   "outputs": [
    {
     "data": {
      "text/html": [
       "<div>\n",
       "<style scoped>\n",
       "    .dataframe tbody tr th:only-of-type {\n",
       "        vertical-align: middle;\n",
       "    }\n",
       "\n",
       "    .dataframe tbody tr th {\n",
       "        vertical-align: top;\n",
       "    }\n",
       "\n",
       "    .dataframe thead th {\n",
       "        text-align: right;\n",
       "    }\n",
       "</style>\n",
       "<table border=\"1\" class=\"dataframe\">\n",
       "  <thead>\n",
       "    <tr style=\"text-align: right;\">\n",
       "      <th></th>\n",
       "      <th>belongs_to_collection</th>\n",
       "      <th>budget</th>\n",
       "      <th>genres</th>\n",
       "      <th>homepage</th>\n",
       "      <th>imdb_id</th>\n",
       "      <th>original_language</th>\n",
       "      <th>original_title</th>\n",
       "      <th>overview</th>\n",
       "      <th>popularity</th>\n",
       "      <th>poster_path</th>\n",
       "      <th>...</th>\n",
       "      <th>release_date</th>\n",
       "      <th>runtime</th>\n",
       "      <th>spoken_languages</th>\n",
       "      <th>status</th>\n",
       "      <th>tagline</th>\n",
       "      <th>title</th>\n",
       "      <th>Keywords</th>\n",
       "      <th>cast</th>\n",
       "      <th>crew</th>\n",
       "      <th>revenue</th>\n",
       "    </tr>\n",
       "  </thead>\n",
       "  <tbody>\n",
       "    <tr>\n",
       "      <th>0</th>\n",
       "      <td>[{'id': 313576, 'name': 'Hot Tub Time Machine ...</td>\n",
       "      <td>14000000</td>\n",
       "      <td>[{'id': 35, 'name': 'Comedy'}]</td>\n",
       "      <td>NaN</td>\n",
       "      <td>tt2637294</td>\n",
       "      <td>en</td>\n",
       "      <td>Hot Tub Time Machine 2</td>\n",
       "      <td>When Lou, who has become the \"father of the In...</td>\n",
       "      <td>6.575393</td>\n",
       "      <td>/tQtWuwvMf0hCc2QR2tkolwl7c3c.jpg</td>\n",
       "      <td>...</td>\n",
       "      <td>2/20/15</td>\n",
       "      <td>93.0</td>\n",
       "      <td>[{'iso_639_1': 'en', 'name': 'English'}]</td>\n",
       "      <td>Released</td>\n",
       "      <td>The Laws of Space and Time are About to be Vio...</td>\n",
       "      <td>Hot Tub Time Machine 2</td>\n",
       "      <td>[{'id': 4379, 'name': 'time travel'}, {'id': 9...</td>\n",
       "      <td>[{'cast_id': 4, 'character': 'Lou', 'credit_id...</td>\n",
       "      <td>[{'credit_id': '59ac067c92514107af02c8c8', 'de...</td>\n",
       "      <td>12314651</td>\n",
       "    </tr>\n",
       "    <tr>\n",
       "      <th>1</th>\n",
       "      <td>[{'id': 107674, 'name': 'The Princess Diaries ...</td>\n",
       "      <td>40000000</td>\n",
       "      <td>[{'id': 35, 'name': 'Comedy'}, {'id': 18, 'nam...</td>\n",
       "      <td>NaN</td>\n",
       "      <td>tt0368933</td>\n",
       "      <td>en</td>\n",
       "      <td>The Princess Diaries 2: Royal Engagement</td>\n",
       "      <td>Mia Thermopolis is now a college graduate and ...</td>\n",
       "      <td>8.248895</td>\n",
       "      <td>/w9Z7A0GHEhIp7etpj0vyKOeU1Wx.jpg</td>\n",
       "      <td>...</td>\n",
       "      <td>8/6/04</td>\n",
       "      <td>113.0</td>\n",
       "      <td>[{'iso_639_1': 'en', 'name': 'English'}]</td>\n",
       "      <td>Released</td>\n",
       "      <td>It can take a lifetime to find true love; she'...</td>\n",
       "      <td>The Princess Diaries 2: Royal Engagement</td>\n",
       "      <td>[{'id': 2505, 'name': 'coronation'}, {'id': 42...</td>\n",
       "      <td>[{'cast_id': 1, 'character': 'Mia Thermopolis'...</td>\n",
       "      <td>[{'credit_id': '52fe43fe9251416c7502563d', 'de...</td>\n",
       "      <td>95149435</td>\n",
       "    </tr>\n",
       "    <tr>\n",
       "      <th>2</th>\n",
       "      <td>NaN</td>\n",
       "      <td>3300000</td>\n",
       "      <td>[{'id': 18, 'name': 'Drama'}]</td>\n",
       "      <td>http://sonyclassics.com/whiplash/</td>\n",
       "      <td>tt2582802</td>\n",
       "      <td>en</td>\n",
       "      <td>Whiplash</td>\n",
       "      <td>Under the direction of a ruthless instructor, ...</td>\n",
       "      <td>64.299990</td>\n",
       "      <td>/lIv1QinFqz4dlp5U4lQ6HaiskOZ.jpg</td>\n",
       "      <td>...</td>\n",
       "      <td>10/10/14</td>\n",
       "      <td>105.0</td>\n",
       "      <td>[{'iso_639_1': 'en', 'name': 'English'}]</td>\n",
       "      <td>Released</td>\n",
       "      <td>The road to greatness can take you to the edge.</td>\n",
       "      <td>Whiplash</td>\n",
       "      <td>[{'id': 1416, 'name': 'jazz'}, {'id': 1523, 'n...</td>\n",
       "      <td>[{'cast_id': 5, 'character': 'Andrew Neimann',...</td>\n",
       "      <td>[{'credit_id': '54d5356ec3a3683ba0000039', 'de...</td>\n",
       "      <td>13092000</td>\n",
       "    </tr>\n",
       "    <tr>\n",
       "      <th>3</th>\n",
       "      <td>NaN</td>\n",
       "      <td>1200000</td>\n",
       "      <td>[{'id': 53, 'name': 'Thriller'}, {'id': 18, 'n...</td>\n",
       "      <td>http://kahaanithefilm.com/</td>\n",
       "      <td>tt1821480</td>\n",
       "      <td>hi</td>\n",
       "      <td>Kahaani</td>\n",
       "      <td>Vidya Bagchi (Vidya Balan) arrives in Kolkata ...</td>\n",
       "      <td>3.174936</td>\n",
       "      <td>/aTXRaPrWSinhcmCrcfJK17urp3F.jpg</td>\n",
       "      <td>...</td>\n",
       "      <td>3/9/12</td>\n",
       "      <td>122.0</td>\n",
       "      <td>[{'iso_639_1': 'en', 'name': 'English'}, {'iso...</td>\n",
       "      <td>Released</td>\n",
       "      <td>NaN</td>\n",
       "      <td>Kahaani</td>\n",
       "      <td>[{'id': 10092, 'name': 'mystery'}, {'id': 1054...</td>\n",
       "      <td>[{'cast_id': 1, 'character': 'Vidya Bagchi', '...</td>\n",
       "      <td>[{'credit_id': '52fe48779251416c9108d6eb', 'de...</td>\n",
       "      <td>16000000</td>\n",
       "    </tr>\n",
       "    <tr>\n",
       "      <th>4</th>\n",
       "      <td>NaN</td>\n",
       "      <td>0</td>\n",
       "      <td>[{'id': 28, 'name': 'Action'}, {'id': 53, 'nam...</td>\n",
       "      <td>NaN</td>\n",
       "      <td>tt1380152</td>\n",
       "      <td>ko</td>\n",
       "      <td>마린보이</td>\n",
       "      <td>Marine Boy is the story of a former national s...</td>\n",
       "      <td>1.148070</td>\n",
       "      <td>/m22s7zvkVFDU9ir56PiiqIEWFdT.jpg</td>\n",
       "      <td>...</td>\n",
       "      <td>2/5/09</td>\n",
       "      <td>118.0</td>\n",
       "      <td>[{'iso_639_1': 'ko', 'name': '한국어/조선말'}]</td>\n",
       "      <td>Released</td>\n",
       "      <td>NaN</td>\n",
       "      <td>Marine Boy</td>\n",
       "      <td>NaN</td>\n",
       "      <td>[{'cast_id': 3, 'character': 'Chun-soo', 'cred...</td>\n",
       "      <td>[{'credit_id': '52fe464b9251416c75073b43', 'de...</td>\n",
       "      <td>3923970</td>\n",
       "    </tr>\n",
       "  </tbody>\n",
       "</table>\n",
       "<p>5 rows × 22 columns</p>\n",
       "</div>"
      ],
      "text/plain": [
       "                               belongs_to_collection    budget  \\\n",
       "0  [{'id': 313576, 'name': 'Hot Tub Time Machine ...  14000000   \n",
       "1  [{'id': 107674, 'name': 'The Princess Diaries ...  40000000   \n",
       "2                                                NaN   3300000   \n",
       "3                                                NaN   1200000   \n",
       "4                                                NaN         0   \n",
       "\n",
       "                                              genres  \\\n",
       "0                     [{'id': 35, 'name': 'Comedy'}]   \n",
       "1  [{'id': 35, 'name': 'Comedy'}, {'id': 18, 'nam...   \n",
       "2                      [{'id': 18, 'name': 'Drama'}]   \n",
       "3  [{'id': 53, 'name': 'Thriller'}, {'id': 18, 'n...   \n",
       "4  [{'id': 28, 'name': 'Action'}, {'id': 53, 'nam...   \n",
       "\n",
       "                            homepage    imdb_id original_language  \\\n",
       "0                                NaN  tt2637294                en   \n",
       "1                                NaN  tt0368933                en   \n",
       "2  http://sonyclassics.com/whiplash/  tt2582802                en   \n",
       "3         http://kahaanithefilm.com/  tt1821480                hi   \n",
       "4                                NaN  tt1380152                ko   \n",
       "\n",
       "                             original_title  \\\n",
       "0                    Hot Tub Time Machine 2   \n",
       "1  The Princess Diaries 2: Royal Engagement   \n",
       "2                                  Whiplash   \n",
       "3                                   Kahaani   \n",
       "4                                      마린보이   \n",
       "\n",
       "                                            overview  popularity  \\\n",
       "0  When Lou, who has become the \"father of the In...    6.575393   \n",
       "1  Mia Thermopolis is now a college graduate and ...    8.248895   \n",
       "2  Under the direction of a ruthless instructor, ...   64.299990   \n",
       "3  Vidya Bagchi (Vidya Balan) arrives in Kolkata ...    3.174936   \n",
       "4  Marine Boy is the story of a former national s...    1.148070   \n",
       "\n",
       "                        poster_path  ... release_date runtime  \\\n",
       "0  /tQtWuwvMf0hCc2QR2tkolwl7c3c.jpg  ...      2/20/15    93.0   \n",
       "1  /w9Z7A0GHEhIp7etpj0vyKOeU1Wx.jpg  ...       8/6/04   113.0   \n",
       "2  /lIv1QinFqz4dlp5U4lQ6HaiskOZ.jpg  ...     10/10/14   105.0   \n",
       "3  /aTXRaPrWSinhcmCrcfJK17urp3F.jpg  ...       3/9/12   122.0   \n",
       "4  /m22s7zvkVFDU9ir56PiiqIEWFdT.jpg  ...       2/5/09   118.0   \n",
       "\n",
       "                                    spoken_languages    status  \\\n",
       "0           [{'iso_639_1': 'en', 'name': 'English'}]  Released   \n",
       "1           [{'iso_639_1': 'en', 'name': 'English'}]  Released   \n",
       "2           [{'iso_639_1': 'en', 'name': 'English'}]  Released   \n",
       "3  [{'iso_639_1': 'en', 'name': 'English'}, {'iso...  Released   \n",
       "4           [{'iso_639_1': 'ko', 'name': '한국어/조선말'}]  Released   \n",
       "\n",
       "                                             tagline  \\\n",
       "0  The Laws of Space and Time are About to be Vio...   \n",
       "1  It can take a lifetime to find true love; she'...   \n",
       "2    The road to greatness can take you to the edge.   \n",
       "3                                                NaN   \n",
       "4                                                NaN   \n",
       "\n",
       "                                      title  \\\n",
       "0                    Hot Tub Time Machine 2   \n",
       "1  The Princess Diaries 2: Royal Engagement   \n",
       "2                                  Whiplash   \n",
       "3                                   Kahaani   \n",
       "4                                Marine Boy   \n",
       "\n",
       "                                            Keywords  \\\n",
       "0  [{'id': 4379, 'name': 'time travel'}, {'id': 9...   \n",
       "1  [{'id': 2505, 'name': 'coronation'}, {'id': 42...   \n",
       "2  [{'id': 1416, 'name': 'jazz'}, {'id': 1523, 'n...   \n",
       "3  [{'id': 10092, 'name': 'mystery'}, {'id': 1054...   \n",
       "4                                                NaN   \n",
       "\n",
       "                                                cast  \\\n",
       "0  [{'cast_id': 4, 'character': 'Lou', 'credit_id...   \n",
       "1  [{'cast_id': 1, 'character': 'Mia Thermopolis'...   \n",
       "2  [{'cast_id': 5, 'character': 'Andrew Neimann',...   \n",
       "3  [{'cast_id': 1, 'character': 'Vidya Bagchi', '...   \n",
       "4  [{'cast_id': 3, 'character': 'Chun-soo', 'cred...   \n",
       "\n",
       "                                                crew   revenue  \n",
       "0  [{'credit_id': '59ac067c92514107af02c8c8', 'de...  12314651  \n",
       "1  [{'credit_id': '52fe43fe9251416c7502563d', 'de...  95149435  \n",
       "2  [{'credit_id': '54d5356ec3a3683ba0000039', 'de...  13092000  \n",
       "3  [{'credit_id': '52fe48779251416c9108d6eb', 'de...  16000000  \n",
       "4  [{'credit_id': '52fe464b9251416c75073b43', 'de...   3923970  \n",
       "\n",
       "[5 rows x 22 columns]"
      ]
     },
     "execution_count": 6,
     "metadata": {},
     "output_type": "execute_result"
    }
   ],
   "source": [
    "df.head(5)"
   ]
  },
  {
   "cell_type": "code",
   "execution_count": 7,
   "id": "19ea100b",
   "metadata": {
    "scrolled": true
   },
   "outputs": [
    {
     "data": {
      "text/plain": [
       "array(['belongs_to_collection', 'budget', 'genres', 'homepage', 'imdb_id',\n",
       "       'original_language', 'original_title', 'overview', 'popularity',\n",
       "       'poster_path', 'production_companies', 'production_countries',\n",
       "       'release_date', 'runtime', 'spoken_languages', 'status', 'tagline',\n",
       "       'title', 'Keywords', 'cast', 'crew', 'revenue'], dtype=object)"
      ]
     },
     "execution_count": 7,
     "metadata": {},
     "output_type": "execute_result"
    }
   ],
   "source": [
    "df.columns.values"
   ]
  },
  {
   "cell_type": "code",
   "execution_count": 8,
   "id": "6ea1fa2a",
   "metadata": {},
   "outputs": [],
   "source": [
    "im1 = df[df['runtime']>=150]"
   ]
  },
  {
   "cell_type": "code",
   "execution_count": 9,
   "id": "cc569021",
   "metadata": {},
   "outputs": [
    {
     "data": {
      "text/plain": [
       "(135, 22)"
      ]
     },
     "execution_count": 9,
     "metadata": {},
     "output_type": "execute_result"
    }
   ],
   "source": [
    "im1.shape"
   ]
  },
  {
   "cell_type": "code",
   "execution_count": 10,
   "id": "02ee9bf8",
   "metadata": {},
   "outputs": [],
   "source": [
    "im2 = df[(df['runtime']<150) & (df['runtime']>100)]"
   ]
  },
  {
   "cell_type": "code",
   "execution_count": 11,
   "id": "a2dae51f",
   "metadata": {},
   "outputs": [],
   "source": [
    "im3 = df[df['runtime']<=100]"
   ]
  },
  {
   "cell_type": "code",
   "execution_count": 12,
   "id": "af6da601",
   "metadata": {},
   "outputs": [
    {
     "data": {
      "text/plain": [
       "((135, 22), (1586, 22), (1277, 22))"
      ]
     },
     "execution_count": 12,
     "metadata": {},
     "output_type": "execute_result"
    }
   ],
   "source": [
    "im1.shape,im2.shape,im3.shape"
   ]
  },
  {
   "cell_type": "code",
   "execution_count": 13,
   "id": "a6a63e18",
   "metadata": {},
   "outputs": [],
   "source": [
    "new_df = pd.concat([im1,im2,im3])"
   ]
  },
  {
   "cell_type": "code",
   "execution_count": 14,
   "id": "6983f8b7",
   "metadata": {},
   "outputs": [
    {
     "data": {
      "text/plain": [
       "(2998, 22)"
      ]
     },
     "execution_count": 14,
     "metadata": {},
     "output_type": "execute_result"
    }
   ],
   "source": [
    "new_df.shape"
   ]
  },
  {
   "cell_type": "code",
   "execution_count": 15,
   "id": "33e17209",
   "metadata": {},
   "outputs": [
    {
     "data": {
      "text/plain": [
       "(3000, 22)"
      ]
     },
     "execution_count": 15,
     "metadata": {},
     "output_type": "execute_result"
    }
   ],
   "source": [
    "df.shape"
   ]
  },
  {
   "cell_type": "code",
   "execution_count": 16,
   "id": "1fd54455",
   "metadata": {},
   "outputs": [],
   "source": [
    "sampl_data = pd.concat([im1,im2],axis=1)"
   ]
  },
  {
   "cell_type": "code",
   "execution_count": 17,
   "id": "a55a4ec0",
   "metadata": {
    "scrolled": true
   },
   "outputs": [
    {
     "data": {
      "text/plain": [
       "(1721, 44)"
      ]
     },
     "execution_count": 17,
     "metadata": {},
     "output_type": "execute_result"
    }
   ],
   "source": [
    "sampl_data.shape"
   ]
  },
  {
   "cell_type": "code",
   "execution_count": 18,
   "id": "7ddd3099",
   "metadata": {},
   "outputs": [],
   "source": [
    "## lets do some joints\n",
    "# Inner joint\n",
    "# Outer joint\n",
    "# left joint\n",
    "# Right joint"
   ]
  },
  {
   "cell_type": "code",
   "execution_count": 19,
   "id": "d479cde5",
   "metadata": {},
   "outputs": [],
   "source": [
    "from datetime import datetime\n",
    "from datetime import date"
   ]
  },
  {
   "cell_type": "code",
   "execution_count": 20,
   "id": "f4b0a94e",
   "metadata": {},
   "outputs": [
    {
     "name": "stdout",
     "output_type": "stream",
     "text": [
      "<class 'pandas.core.frame.DataFrame'>\n",
      "RangeIndex: 3000 entries, 0 to 2999\n",
      "Data columns (total 22 columns):\n",
      " #   Column                 Non-Null Count  Dtype  \n",
      "---  ------                 --------------  -----  \n",
      " 0   belongs_to_collection  604 non-null    object \n",
      " 1   budget                 3000 non-null   int64  \n",
      " 2   genres                 2993 non-null   object \n",
      " 3   homepage               946 non-null    object \n",
      " 4   imdb_id                3000 non-null   object \n",
      " 5   original_language      3000 non-null   object \n",
      " 6   original_title         3000 non-null   object \n",
      " 7   overview               2992 non-null   object \n",
      " 8   popularity             3000 non-null   float64\n",
      " 9   poster_path            2999 non-null   object \n",
      " 10  production_companies   2844 non-null   object \n",
      " 11  production_countries   2945 non-null   object \n",
      " 12  release_date           3000 non-null   object \n",
      " 13  runtime                2998 non-null   float64\n",
      " 14  spoken_languages       2980 non-null   object \n",
      " 15  status                 3000 non-null   object \n",
      " 16  tagline                2403 non-null   object \n",
      " 17  title                  3000 non-null   object \n",
      " 18  Keywords               2724 non-null   object \n",
      " 19  cast                   2987 non-null   object \n",
      " 20  crew                   2984 non-null   object \n",
      " 21  revenue                3000 non-null   int64  \n",
      "dtypes: float64(2), int64(2), object(18)\n",
      "memory usage: 515.8+ KB\n"
     ]
    }
   ],
   "source": [
    "df.info()"
   ]
  },
  {
   "cell_type": "code",
   "execution_count": 21,
   "id": "6254c883",
   "metadata": {},
   "outputs": [],
   "source": [
    "df['relese_year'] = df['release_date'].apply(lambda x :datetime.strptime(x,'%m/%d/%y'))"
   ]
  },
  {
   "cell_type": "code",
   "execution_count": 22,
   "id": "31884401",
   "metadata": {},
   "outputs": [
    {
     "data": {
      "text/html": [
       "<div>\n",
       "<style scoped>\n",
       "    .dataframe tbody tr th:only-of-type {\n",
       "        vertical-align: middle;\n",
       "    }\n",
       "\n",
       "    .dataframe tbody tr th {\n",
       "        vertical-align: top;\n",
       "    }\n",
       "\n",
       "    .dataframe thead th {\n",
       "        text-align: right;\n",
       "    }\n",
       "</style>\n",
       "<table border=\"1\" class=\"dataframe\">\n",
       "  <thead>\n",
       "    <tr style=\"text-align: right;\">\n",
       "      <th></th>\n",
       "      <th>belongs_to_collection</th>\n",
       "      <th>budget</th>\n",
       "      <th>genres</th>\n",
       "      <th>homepage</th>\n",
       "      <th>imdb_id</th>\n",
       "      <th>original_language</th>\n",
       "      <th>original_title</th>\n",
       "      <th>overview</th>\n",
       "      <th>popularity</th>\n",
       "      <th>poster_path</th>\n",
       "      <th>...</th>\n",
       "      <th>runtime</th>\n",
       "      <th>spoken_languages</th>\n",
       "      <th>status</th>\n",
       "      <th>tagline</th>\n",
       "      <th>title</th>\n",
       "      <th>Keywords</th>\n",
       "      <th>cast</th>\n",
       "      <th>crew</th>\n",
       "      <th>revenue</th>\n",
       "      <th>relese_year</th>\n",
       "    </tr>\n",
       "  </thead>\n",
       "  <tbody>\n",
       "    <tr>\n",
       "      <th>0</th>\n",
       "      <td>[{'id': 313576, 'name': 'Hot Tub Time Machine ...</td>\n",
       "      <td>14000000</td>\n",
       "      <td>[{'id': 35, 'name': 'Comedy'}]</td>\n",
       "      <td>NaN</td>\n",
       "      <td>tt2637294</td>\n",
       "      <td>en</td>\n",
       "      <td>Hot Tub Time Machine 2</td>\n",
       "      <td>When Lou, who has become the \"father of the In...</td>\n",
       "      <td>6.575393</td>\n",
       "      <td>/tQtWuwvMf0hCc2QR2tkolwl7c3c.jpg</td>\n",
       "      <td>...</td>\n",
       "      <td>93.0</td>\n",
       "      <td>[{'iso_639_1': 'en', 'name': 'English'}]</td>\n",
       "      <td>Released</td>\n",
       "      <td>The Laws of Space and Time are About to be Vio...</td>\n",
       "      <td>Hot Tub Time Machine 2</td>\n",
       "      <td>[{'id': 4379, 'name': 'time travel'}, {'id': 9...</td>\n",
       "      <td>[{'cast_id': 4, 'character': 'Lou', 'credit_id...</td>\n",
       "      <td>[{'credit_id': '59ac067c92514107af02c8c8', 'de...</td>\n",
       "      <td>12314651</td>\n",
       "      <td>2015-02-20</td>\n",
       "    </tr>\n",
       "    <tr>\n",
       "      <th>1</th>\n",
       "      <td>[{'id': 107674, 'name': 'The Princess Diaries ...</td>\n",
       "      <td>40000000</td>\n",
       "      <td>[{'id': 35, 'name': 'Comedy'}, {'id': 18, 'nam...</td>\n",
       "      <td>NaN</td>\n",
       "      <td>tt0368933</td>\n",
       "      <td>en</td>\n",
       "      <td>The Princess Diaries 2: Royal Engagement</td>\n",
       "      <td>Mia Thermopolis is now a college graduate and ...</td>\n",
       "      <td>8.248895</td>\n",
       "      <td>/w9Z7A0GHEhIp7etpj0vyKOeU1Wx.jpg</td>\n",
       "      <td>...</td>\n",
       "      <td>113.0</td>\n",
       "      <td>[{'iso_639_1': 'en', 'name': 'English'}]</td>\n",
       "      <td>Released</td>\n",
       "      <td>It can take a lifetime to find true love; she'...</td>\n",
       "      <td>The Princess Diaries 2: Royal Engagement</td>\n",
       "      <td>[{'id': 2505, 'name': 'coronation'}, {'id': 42...</td>\n",
       "      <td>[{'cast_id': 1, 'character': 'Mia Thermopolis'...</td>\n",
       "      <td>[{'credit_id': '52fe43fe9251416c7502563d', 'de...</td>\n",
       "      <td>95149435</td>\n",
       "      <td>2004-08-06</td>\n",
       "    </tr>\n",
       "    <tr>\n",
       "      <th>2</th>\n",
       "      <td>NaN</td>\n",
       "      <td>3300000</td>\n",
       "      <td>[{'id': 18, 'name': 'Drama'}]</td>\n",
       "      <td>http://sonyclassics.com/whiplash/</td>\n",
       "      <td>tt2582802</td>\n",
       "      <td>en</td>\n",
       "      <td>Whiplash</td>\n",
       "      <td>Under the direction of a ruthless instructor, ...</td>\n",
       "      <td>64.299990</td>\n",
       "      <td>/lIv1QinFqz4dlp5U4lQ6HaiskOZ.jpg</td>\n",
       "      <td>...</td>\n",
       "      <td>105.0</td>\n",
       "      <td>[{'iso_639_1': 'en', 'name': 'English'}]</td>\n",
       "      <td>Released</td>\n",
       "      <td>The road to greatness can take you to the edge.</td>\n",
       "      <td>Whiplash</td>\n",
       "      <td>[{'id': 1416, 'name': 'jazz'}, {'id': 1523, 'n...</td>\n",
       "      <td>[{'cast_id': 5, 'character': 'Andrew Neimann',...</td>\n",
       "      <td>[{'credit_id': '54d5356ec3a3683ba0000039', 'de...</td>\n",
       "      <td>13092000</td>\n",
       "      <td>2014-10-10</td>\n",
       "    </tr>\n",
       "    <tr>\n",
       "      <th>3</th>\n",
       "      <td>NaN</td>\n",
       "      <td>1200000</td>\n",
       "      <td>[{'id': 53, 'name': 'Thriller'}, {'id': 18, 'n...</td>\n",
       "      <td>http://kahaanithefilm.com/</td>\n",
       "      <td>tt1821480</td>\n",
       "      <td>hi</td>\n",
       "      <td>Kahaani</td>\n",
       "      <td>Vidya Bagchi (Vidya Balan) arrives in Kolkata ...</td>\n",
       "      <td>3.174936</td>\n",
       "      <td>/aTXRaPrWSinhcmCrcfJK17urp3F.jpg</td>\n",
       "      <td>...</td>\n",
       "      <td>122.0</td>\n",
       "      <td>[{'iso_639_1': 'en', 'name': 'English'}, {'iso...</td>\n",
       "      <td>Released</td>\n",
       "      <td>NaN</td>\n",
       "      <td>Kahaani</td>\n",
       "      <td>[{'id': 10092, 'name': 'mystery'}, {'id': 1054...</td>\n",
       "      <td>[{'cast_id': 1, 'character': 'Vidya Bagchi', '...</td>\n",
       "      <td>[{'credit_id': '52fe48779251416c9108d6eb', 'de...</td>\n",
       "      <td>16000000</td>\n",
       "      <td>2012-03-09</td>\n",
       "    </tr>\n",
       "    <tr>\n",
       "      <th>4</th>\n",
       "      <td>NaN</td>\n",
       "      <td>0</td>\n",
       "      <td>[{'id': 28, 'name': 'Action'}, {'id': 53, 'nam...</td>\n",
       "      <td>NaN</td>\n",
       "      <td>tt1380152</td>\n",
       "      <td>ko</td>\n",
       "      <td>마린보이</td>\n",
       "      <td>Marine Boy is the story of a former national s...</td>\n",
       "      <td>1.148070</td>\n",
       "      <td>/m22s7zvkVFDU9ir56PiiqIEWFdT.jpg</td>\n",
       "      <td>...</td>\n",
       "      <td>118.0</td>\n",
       "      <td>[{'iso_639_1': 'ko', 'name': '한국어/조선말'}]</td>\n",
       "      <td>Released</td>\n",
       "      <td>NaN</td>\n",
       "      <td>Marine Boy</td>\n",
       "      <td>NaN</td>\n",
       "      <td>[{'cast_id': 3, 'character': 'Chun-soo', 'cred...</td>\n",
       "      <td>[{'credit_id': '52fe464b9251416c75073b43', 'de...</td>\n",
       "      <td>3923970</td>\n",
       "      <td>2009-02-05</td>\n",
       "    </tr>\n",
       "  </tbody>\n",
       "</table>\n",
       "<p>5 rows × 23 columns</p>\n",
       "</div>"
      ],
      "text/plain": [
       "                               belongs_to_collection    budget  \\\n",
       "0  [{'id': 313576, 'name': 'Hot Tub Time Machine ...  14000000   \n",
       "1  [{'id': 107674, 'name': 'The Princess Diaries ...  40000000   \n",
       "2                                                NaN   3300000   \n",
       "3                                                NaN   1200000   \n",
       "4                                                NaN         0   \n",
       "\n",
       "                                              genres  \\\n",
       "0                     [{'id': 35, 'name': 'Comedy'}]   \n",
       "1  [{'id': 35, 'name': 'Comedy'}, {'id': 18, 'nam...   \n",
       "2                      [{'id': 18, 'name': 'Drama'}]   \n",
       "3  [{'id': 53, 'name': 'Thriller'}, {'id': 18, 'n...   \n",
       "4  [{'id': 28, 'name': 'Action'}, {'id': 53, 'nam...   \n",
       "\n",
       "                            homepage    imdb_id original_language  \\\n",
       "0                                NaN  tt2637294                en   \n",
       "1                                NaN  tt0368933                en   \n",
       "2  http://sonyclassics.com/whiplash/  tt2582802                en   \n",
       "3         http://kahaanithefilm.com/  tt1821480                hi   \n",
       "4                                NaN  tt1380152                ko   \n",
       "\n",
       "                             original_title  \\\n",
       "0                    Hot Tub Time Machine 2   \n",
       "1  The Princess Diaries 2: Royal Engagement   \n",
       "2                                  Whiplash   \n",
       "3                                   Kahaani   \n",
       "4                                      마린보이   \n",
       "\n",
       "                                            overview  popularity  \\\n",
       "0  When Lou, who has become the \"father of the In...    6.575393   \n",
       "1  Mia Thermopolis is now a college graduate and ...    8.248895   \n",
       "2  Under the direction of a ruthless instructor, ...   64.299990   \n",
       "3  Vidya Bagchi (Vidya Balan) arrives in Kolkata ...    3.174936   \n",
       "4  Marine Boy is the story of a former national s...    1.148070   \n",
       "\n",
       "                        poster_path  ... runtime  \\\n",
       "0  /tQtWuwvMf0hCc2QR2tkolwl7c3c.jpg  ...    93.0   \n",
       "1  /w9Z7A0GHEhIp7etpj0vyKOeU1Wx.jpg  ...   113.0   \n",
       "2  /lIv1QinFqz4dlp5U4lQ6HaiskOZ.jpg  ...   105.0   \n",
       "3  /aTXRaPrWSinhcmCrcfJK17urp3F.jpg  ...   122.0   \n",
       "4  /m22s7zvkVFDU9ir56PiiqIEWFdT.jpg  ...   118.0   \n",
       "\n",
       "                                    spoken_languages    status  \\\n",
       "0           [{'iso_639_1': 'en', 'name': 'English'}]  Released   \n",
       "1           [{'iso_639_1': 'en', 'name': 'English'}]  Released   \n",
       "2           [{'iso_639_1': 'en', 'name': 'English'}]  Released   \n",
       "3  [{'iso_639_1': 'en', 'name': 'English'}, {'iso...  Released   \n",
       "4           [{'iso_639_1': 'ko', 'name': '한국어/조선말'}]  Released   \n",
       "\n",
       "                                             tagline  \\\n",
       "0  The Laws of Space and Time are About to be Vio...   \n",
       "1  It can take a lifetime to find true love; she'...   \n",
       "2    The road to greatness can take you to the edge.   \n",
       "3                                                NaN   \n",
       "4                                                NaN   \n",
       "\n",
       "                                      title  \\\n",
       "0                    Hot Tub Time Machine 2   \n",
       "1  The Princess Diaries 2: Royal Engagement   \n",
       "2                                  Whiplash   \n",
       "3                                   Kahaani   \n",
       "4                                Marine Boy   \n",
       "\n",
       "                                            Keywords  \\\n",
       "0  [{'id': 4379, 'name': 'time travel'}, {'id': 9...   \n",
       "1  [{'id': 2505, 'name': 'coronation'}, {'id': 42...   \n",
       "2  [{'id': 1416, 'name': 'jazz'}, {'id': 1523, 'n...   \n",
       "3  [{'id': 10092, 'name': 'mystery'}, {'id': 1054...   \n",
       "4                                                NaN   \n",
       "\n",
       "                                                cast  \\\n",
       "0  [{'cast_id': 4, 'character': 'Lou', 'credit_id...   \n",
       "1  [{'cast_id': 1, 'character': 'Mia Thermopolis'...   \n",
       "2  [{'cast_id': 5, 'character': 'Andrew Neimann',...   \n",
       "3  [{'cast_id': 1, 'character': 'Vidya Bagchi', '...   \n",
       "4  [{'cast_id': 3, 'character': 'Chun-soo', 'cred...   \n",
       "\n",
       "                                                crew   revenue relese_year  \n",
       "0  [{'credit_id': '59ac067c92514107af02c8c8', 'de...  12314651  2015-02-20  \n",
       "1  [{'credit_id': '52fe43fe9251416c7502563d', 'de...  95149435  2004-08-06  \n",
       "2  [{'credit_id': '54d5356ec3a3683ba0000039', 'de...  13092000  2014-10-10  \n",
       "3  [{'credit_id': '52fe48779251416c9108d6eb', 'de...  16000000  2012-03-09  \n",
       "4  [{'credit_id': '52fe464b9251416c75073b43', 'de...   3923970  2009-02-05  \n",
       "\n",
       "[5 rows x 23 columns]"
      ]
     },
     "execution_count": 22,
     "metadata": {},
     "output_type": "execute_result"
    }
   ],
   "source": [
    "df.head(5)"
   ]
  },
  {
   "cell_type": "code",
   "execution_count": 23,
   "id": "bbddb97c",
   "metadata": {},
   "outputs": [],
   "source": [
    "df['year_of_relese'] = df['relese_year'].apply(lambda x : x.year)"
   ]
  },
  {
   "cell_type": "code",
   "execution_count": 24,
   "id": "d64fb505",
   "metadata": {},
   "outputs": [
    {
     "data": {
      "text/html": [
       "<div>\n",
       "<style scoped>\n",
       "    .dataframe tbody tr th:only-of-type {\n",
       "        vertical-align: middle;\n",
       "    }\n",
       "\n",
       "    .dataframe tbody tr th {\n",
       "        vertical-align: top;\n",
       "    }\n",
       "\n",
       "    .dataframe thead th {\n",
       "        text-align: right;\n",
       "    }\n",
       "</style>\n",
       "<table border=\"1\" class=\"dataframe\">\n",
       "  <thead>\n",
       "    <tr style=\"text-align: right;\">\n",
       "      <th></th>\n",
       "      <th>belongs_to_collection</th>\n",
       "      <th>budget</th>\n",
       "      <th>genres</th>\n",
       "      <th>homepage</th>\n",
       "      <th>imdb_id</th>\n",
       "      <th>original_language</th>\n",
       "      <th>original_title</th>\n",
       "      <th>overview</th>\n",
       "      <th>popularity</th>\n",
       "      <th>poster_path</th>\n",
       "      <th>...</th>\n",
       "      <th>spoken_languages</th>\n",
       "      <th>status</th>\n",
       "      <th>tagline</th>\n",
       "      <th>title</th>\n",
       "      <th>Keywords</th>\n",
       "      <th>cast</th>\n",
       "      <th>crew</th>\n",
       "      <th>revenue</th>\n",
       "      <th>relese_year</th>\n",
       "      <th>year_of_relese</th>\n",
       "    </tr>\n",
       "  </thead>\n",
       "  <tbody>\n",
       "    <tr>\n",
       "      <th>0</th>\n",
       "      <td>[{'id': 313576, 'name': 'Hot Tub Time Machine ...</td>\n",
       "      <td>14000000</td>\n",
       "      <td>[{'id': 35, 'name': 'Comedy'}]</td>\n",
       "      <td>NaN</td>\n",
       "      <td>tt2637294</td>\n",
       "      <td>en</td>\n",
       "      <td>Hot Tub Time Machine 2</td>\n",
       "      <td>When Lou, who has become the \"father of the In...</td>\n",
       "      <td>6.575393</td>\n",
       "      <td>/tQtWuwvMf0hCc2QR2tkolwl7c3c.jpg</td>\n",
       "      <td>...</td>\n",
       "      <td>[{'iso_639_1': 'en', 'name': 'English'}]</td>\n",
       "      <td>Released</td>\n",
       "      <td>The Laws of Space and Time are About to be Vio...</td>\n",
       "      <td>Hot Tub Time Machine 2</td>\n",
       "      <td>[{'id': 4379, 'name': 'time travel'}, {'id': 9...</td>\n",
       "      <td>[{'cast_id': 4, 'character': 'Lou', 'credit_id...</td>\n",
       "      <td>[{'credit_id': '59ac067c92514107af02c8c8', 'de...</td>\n",
       "      <td>12314651</td>\n",
       "      <td>2015-02-20</td>\n",
       "      <td>2015</td>\n",
       "    </tr>\n",
       "    <tr>\n",
       "      <th>1</th>\n",
       "      <td>[{'id': 107674, 'name': 'The Princess Diaries ...</td>\n",
       "      <td>40000000</td>\n",
       "      <td>[{'id': 35, 'name': 'Comedy'}, {'id': 18, 'nam...</td>\n",
       "      <td>NaN</td>\n",
       "      <td>tt0368933</td>\n",
       "      <td>en</td>\n",
       "      <td>The Princess Diaries 2: Royal Engagement</td>\n",
       "      <td>Mia Thermopolis is now a college graduate and ...</td>\n",
       "      <td>8.248895</td>\n",
       "      <td>/w9Z7A0GHEhIp7etpj0vyKOeU1Wx.jpg</td>\n",
       "      <td>...</td>\n",
       "      <td>[{'iso_639_1': 'en', 'name': 'English'}]</td>\n",
       "      <td>Released</td>\n",
       "      <td>It can take a lifetime to find true love; she'...</td>\n",
       "      <td>The Princess Diaries 2: Royal Engagement</td>\n",
       "      <td>[{'id': 2505, 'name': 'coronation'}, {'id': 42...</td>\n",
       "      <td>[{'cast_id': 1, 'character': 'Mia Thermopolis'...</td>\n",
       "      <td>[{'credit_id': '52fe43fe9251416c7502563d', 'de...</td>\n",
       "      <td>95149435</td>\n",
       "      <td>2004-08-06</td>\n",
       "      <td>2004</td>\n",
       "    </tr>\n",
       "    <tr>\n",
       "      <th>2</th>\n",
       "      <td>NaN</td>\n",
       "      <td>3300000</td>\n",
       "      <td>[{'id': 18, 'name': 'Drama'}]</td>\n",
       "      <td>http://sonyclassics.com/whiplash/</td>\n",
       "      <td>tt2582802</td>\n",
       "      <td>en</td>\n",
       "      <td>Whiplash</td>\n",
       "      <td>Under the direction of a ruthless instructor, ...</td>\n",
       "      <td>64.299990</td>\n",
       "      <td>/lIv1QinFqz4dlp5U4lQ6HaiskOZ.jpg</td>\n",
       "      <td>...</td>\n",
       "      <td>[{'iso_639_1': 'en', 'name': 'English'}]</td>\n",
       "      <td>Released</td>\n",
       "      <td>The road to greatness can take you to the edge.</td>\n",
       "      <td>Whiplash</td>\n",
       "      <td>[{'id': 1416, 'name': 'jazz'}, {'id': 1523, 'n...</td>\n",
       "      <td>[{'cast_id': 5, 'character': 'Andrew Neimann',...</td>\n",
       "      <td>[{'credit_id': '54d5356ec3a3683ba0000039', 'de...</td>\n",
       "      <td>13092000</td>\n",
       "      <td>2014-10-10</td>\n",
       "      <td>2014</td>\n",
       "    </tr>\n",
       "    <tr>\n",
       "      <th>3</th>\n",
       "      <td>NaN</td>\n",
       "      <td>1200000</td>\n",
       "      <td>[{'id': 53, 'name': 'Thriller'}, {'id': 18, 'n...</td>\n",
       "      <td>http://kahaanithefilm.com/</td>\n",
       "      <td>tt1821480</td>\n",
       "      <td>hi</td>\n",
       "      <td>Kahaani</td>\n",
       "      <td>Vidya Bagchi (Vidya Balan) arrives in Kolkata ...</td>\n",
       "      <td>3.174936</td>\n",
       "      <td>/aTXRaPrWSinhcmCrcfJK17urp3F.jpg</td>\n",
       "      <td>...</td>\n",
       "      <td>[{'iso_639_1': 'en', 'name': 'English'}, {'iso...</td>\n",
       "      <td>Released</td>\n",
       "      <td>NaN</td>\n",
       "      <td>Kahaani</td>\n",
       "      <td>[{'id': 10092, 'name': 'mystery'}, {'id': 1054...</td>\n",
       "      <td>[{'cast_id': 1, 'character': 'Vidya Bagchi', '...</td>\n",
       "      <td>[{'credit_id': '52fe48779251416c9108d6eb', 'de...</td>\n",
       "      <td>16000000</td>\n",
       "      <td>2012-03-09</td>\n",
       "      <td>2012</td>\n",
       "    </tr>\n",
       "    <tr>\n",
       "      <th>4</th>\n",
       "      <td>NaN</td>\n",
       "      <td>0</td>\n",
       "      <td>[{'id': 28, 'name': 'Action'}, {'id': 53, 'nam...</td>\n",
       "      <td>NaN</td>\n",
       "      <td>tt1380152</td>\n",
       "      <td>ko</td>\n",
       "      <td>마린보이</td>\n",
       "      <td>Marine Boy is the story of a former national s...</td>\n",
       "      <td>1.148070</td>\n",
       "      <td>/m22s7zvkVFDU9ir56PiiqIEWFdT.jpg</td>\n",
       "      <td>...</td>\n",
       "      <td>[{'iso_639_1': 'ko', 'name': '한국어/조선말'}]</td>\n",
       "      <td>Released</td>\n",
       "      <td>NaN</td>\n",
       "      <td>Marine Boy</td>\n",
       "      <td>NaN</td>\n",
       "      <td>[{'cast_id': 3, 'character': 'Chun-soo', 'cred...</td>\n",
       "      <td>[{'credit_id': '52fe464b9251416c75073b43', 'de...</td>\n",
       "      <td>3923970</td>\n",
       "      <td>2009-02-05</td>\n",
       "      <td>2009</td>\n",
       "    </tr>\n",
       "  </tbody>\n",
       "</table>\n",
       "<p>5 rows × 24 columns</p>\n",
       "</div>"
      ],
      "text/plain": [
       "                               belongs_to_collection    budget  \\\n",
       "0  [{'id': 313576, 'name': 'Hot Tub Time Machine ...  14000000   \n",
       "1  [{'id': 107674, 'name': 'The Princess Diaries ...  40000000   \n",
       "2                                                NaN   3300000   \n",
       "3                                                NaN   1200000   \n",
       "4                                                NaN         0   \n",
       "\n",
       "                                              genres  \\\n",
       "0                     [{'id': 35, 'name': 'Comedy'}]   \n",
       "1  [{'id': 35, 'name': 'Comedy'}, {'id': 18, 'nam...   \n",
       "2                      [{'id': 18, 'name': 'Drama'}]   \n",
       "3  [{'id': 53, 'name': 'Thriller'}, {'id': 18, 'n...   \n",
       "4  [{'id': 28, 'name': 'Action'}, {'id': 53, 'nam...   \n",
       "\n",
       "                            homepage    imdb_id original_language  \\\n",
       "0                                NaN  tt2637294                en   \n",
       "1                                NaN  tt0368933                en   \n",
       "2  http://sonyclassics.com/whiplash/  tt2582802                en   \n",
       "3         http://kahaanithefilm.com/  tt1821480                hi   \n",
       "4                                NaN  tt1380152                ko   \n",
       "\n",
       "                             original_title  \\\n",
       "0                    Hot Tub Time Machine 2   \n",
       "1  The Princess Diaries 2: Royal Engagement   \n",
       "2                                  Whiplash   \n",
       "3                                   Kahaani   \n",
       "4                                      마린보이   \n",
       "\n",
       "                                            overview  popularity  \\\n",
       "0  When Lou, who has become the \"father of the In...    6.575393   \n",
       "1  Mia Thermopolis is now a college graduate and ...    8.248895   \n",
       "2  Under the direction of a ruthless instructor, ...   64.299990   \n",
       "3  Vidya Bagchi (Vidya Balan) arrives in Kolkata ...    3.174936   \n",
       "4  Marine Boy is the story of a former national s...    1.148070   \n",
       "\n",
       "                        poster_path  ...  \\\n",
       "0  /tQtWuwvMf0hCc2QR2tkolwl7c3c.jpg  ...   \n",
       "1  /w9Z7A0GHEhIp7etpj0vyKOeU1Wx.jpg  ...   \n",
       "2  /lIv1QinFqz4dlp5U4lQ6HaiskOZ.jpg  ...   \n",
       "3  /aTXRaPrWSinhcmCrcfJK17urp3F.jpg  ...   \n",
       "4  /m22s7zvkVFDU9ir56PiiqIEWFdT.jpg  ...   \n",
       "\n",
       "                                    spoken_languages    status  \\\n",
       "0           [{'iso_639_1': 'en', 'name': 'English'}]  Released   \n",
       "1           [{'iso_639_1': 'en', 'name': 'English'}]  Released   \n",
       "2           [{'iso_639_1': 'en', 'name': 'English'}]  Released   \n",
       "3  [{'iso_639_1': 'en', 'name': 'English'}, {'iso...  Released   \n",
       "4           [{'iso_639_1': 'ko', 'name': '한국어/조선말'}]  Released   \n",
       "\n",
       "                                             tagline  \\\n",
       "0  The Laws of Space and Time are About to be Vio...   \n",
       "1  It can take a lifetime to find true love; she'...   \n",
       "2    The road to greatness can take you to the edge.   \n",
       "3                                                NaN   \n",
       "4                                                NaN   \n",
       "\n",
       "                                      title  \\\n",
       "0                    Hot Tub Time Machine 2   \n",
       "1  The Princess Diaries 2: Royal Engagement   \n",
       "2                                  Whiplash   \n",
       "3                                   Kahaani   \n",
       "4                                Marine Boy   \n",
       "\n",
       "                                            Keywords  \\\n",
       "0  [{'id': 4379, 'name': 'time travel'}, {'id': 9...   \n",
       "1  [{'id': 2505, 'name': 'coronation'}, {'id': 42...   \n",
       "2  [{'id': 1416, 'name': 'jazz'}, {'id': 1523, 'n...   \n",
       "3  [{'id': 10092, 'name': 'mystery'}, {'id': 1054...   \n",
       "4                                                NaN   \n",
       "\n",
       "                                                cast  \\\n",
       "0  [{'cast_id': 4, 'character': 'Lou', 'credit_id...   \n",
       "1  [{'cast_id': 1, 'character': 'Mia Thermopolis'...   \n",
       "2  [{'cast_id': 5, 'character': 'Andrew Neimann',...   \n",
       "3  [{'cast_id': 1, 'character': 'Vidya Bagchi', '...   \n",
       "4  [{'cast_id': 3, 'character': 'Chun-soo', 'cred...   \n",
       "\n",
       "                                                crew   revenue relese_year  \\\n",
       "0  [{'credit_id': '59ac067c92514107af02c8c8', 'de...  12314651  2015-02-20   \n",
       "1  [{'credit_id': '52fe43fe9251416c7502563d', 'de...  95149435  2004-08-06   \n",
       "2  [{'credit_id': '54d5356ec3a3683ba0000039', 'de...  13092000  2014-10-10   \n",
       "3  [{'credit_id': '52fe48779251416c9108d6eb', 'de...  16000000  2012-03-09   \n",
       "4  [{'credit_id': '52fe464b9251416c75073b43', 'de...   3923970  2009-02-05   \n",
       "\n",
       "  year_of_relese  \n",
       "0           2015  \n",
       "1           2004  \n",
       "2           2014  \n",
       "3           2012  \n",
       "4           2009  \n",
       "\n",
       "[5 rows x 24 columns]"
      ]
     },
     "execution_count": 24,
     "metadata": {},
     "output_type": "execute_result"
    }
   ],
   "source": [
    "df.head(5)"
   ]
  },
  {
   "cell_type": "code",
   "execution_count": 25,
   "id": "ee4f206f",
   "metadata": {},
   "outputs": [],
   "source": [
    "import numpy as np"
   ]
  },
  {
   "cell_type": "code",
   "execution_count": 26,
   "id": "6d6ace54",
   "metadata": {},
   "outputs": [],
   "source": [
    "df['year_of_relese']=np.where(df['year_of_relese']>2020,df['year_of_relese']-100,df['year_of_relese'])"
   ]
  },
  {
   "cell_type": "code",
   "execution_count": 27,
   "id": "503df413",
   "metadata": {},
   "outputs": [
    {
     "data": {
      "text/plain": [
       "array([2015, 2004, 2014, 2012, 2009, 1987, 1996, 2003, 1976, 1999, 2005,\n",
       "       2002, 2010, 2013, 2011, 1998, 1982, 2006, 1992, 1997, 1986, 2007,\n",
       "       2000, 1995, 1965, 1967, 2017, 1994, 2008, 1980, 1988, 2016, 1993,\n",
       "       1956, 1989, 1962, 1990, 1981, 1984, 1979, 2001, 1966, 1978, 1968,\n",
       "       1983, 1975, 1985, 1991, 1928, 1969, 1933, 1949, 1970, 1971, 1977,\n",
       "       1940, 1954, 1957, 1953, 1932, 1960, 1948, 1958, 1961, 1959, 1952,\n",
       "       1944, 1955, 1951, 1973, 1972, 1936, 1931, 1935, 1942, 1927, 1964,\n",
       "       1939, 1925, 1950, 1945, 1943, 1974, 1921, 1963, 1938, 1947, 1930,\n",
       "       1926, 1924], dtype=int64)"
      ]
     },
     "execution_count": 27,
     "metadata": {},
     "output_type": "execute_result"
    }
   ],
   "source": [
    "df['year_of_relese'].unique()"
   ]
  },
  {
   "cell_type": "code",
   "execution_count": 28,
   "id": "46b8632b",
   "metadata": {},
   "outputs": [
    {
     "data": {
      "text/html": [
       "<div>\n",
       "<style scoped>\n",
       "    .dataframe tbody tr th:only-of-type {\n",
       "        vertical-align: middle;\n",
       "    }\n",
       "\n",
       "    .dataframe tbody tr th {\n",
       "        vertical-align: top;\n",
       "    }\n",
       "\n",
       "    .dataframe thead th {\n",
       "        text-align: right;\n",
       "    }\n",
       "</style>\n",
       "<table border=\"1\" class=\"dataframe\">\n",
       "  <thead>\n",
       "    <tr style=\"text-align: right;\">\n",
       "      <th></th>\n",
       "      <th>Year</th>\n",
       "      <th>Avg_runtime</th>\n",
       "    </tr>\n",
       "  </thead>\n",
       "  <tbody>\n",
       "    <tr>\n",
       "      <th>0</th>\n",
       "      <td>1921</td>\n",
       "      <td>68.000000</td>\n",
       "    </tr>\n",
       "    <tr>\n",
       "      <th>1</th>\n",
       "      <td>1924</td>\n",
       "      <td>149.000000</td>\n",
       "    </tr>\n",
       "    <tr>\n",
       "      <th>2</th>\n",
       "      <td>1925</td>\n",
       "      <td>106.000000</td>\n",
       "    </tr>\n",
       "    <tr>\n",
       "      <th>3</th>\n",
       "      <td>1926</td>\n",
       "      <td>84.000000</td>\n",
       "    </tr>\n",
       "    <tr>\n",
       "      <th>4</th>\n",
       "      <td>1927</td>\n",
       "      <td>87.000000</td>\n",
       "    </tr>\n",
       "    <tr>\n",
       "      <th>...</th>\n",
       "      <td>...</td>\n",
       "      <td>...</td>\n",
       "    </tr>\n",
       "    <tr>\n",
       "      <th>85</th>\n",
       "      <td>2013</td>\n",
       "      <td>108.865248</td>\n",
       "    </tr>\n",
       "    <tr>\n",
       "      <th>86</th>\n",
       "      <td>2014</td>\n",
       "      <td>105.414634</td>\n",
       "    </tr>\n",
       "    <tr>\n",
       "      <th>87</th>\n",
       "      <td>2015</td>\n",
       "      <td>111.937500</td>\n",
       "    </tr>\n",
       "    <tr>\n",
       "      <th>88</th>\n",
       "      <td>2016</td>\n",
       "      <td>108.584000</td>\n",
       "    </tr>\n",
       "    <tr>\n",
       "      <th>89</th>\n",
       "      <td>2017</td>\n",
       "      <td>111.150000</td>\n",
       "    </tr>\n",
       "  </tbody>\n",
       "</table>\n",
       "<p>90 rows × 2 columns</p>\n",
       "</div>"
      ],
      "text/plain": [
       "    Year  Avg_runtime\n",
       "0   1921    68.000000\n",
       "1   1924   149.000000\n",
       "2   1925   106.000000\n",
       "3   1926    84.000000\n",
       "4   1927    87.000000\n",
       "..   ...          ...\n",
       "85  2013   108.865248\n",
       "86  2014   105.414634\n",
       "87  2015   111.937500\n",
       "88  2016   108.584000\n",
       "89  2017   111.150000\n",
       "\n",
       "[90 rows x 2 columns]"
      ]
     },
     "execution_count": 28,
     "metadata": {},
     "output_type": "execute_result"
    }
   ],
   "source": [
    "df.groupby('year_of_relese')['runtime'].mean().reset_index().rename(columns = {'year_of_relese':'Year','runtime':'Avg_runtime'})"
   ]
  },
  {
   "cell_type": "code",
   "execution_count": 29,
   "id": "d551f25e",
   "metadata": {},
   "outputs": [
    {
     "data": {
      "text/plain": [
       "count    2998.000000\n",
       "mean      107.856571\n",
       "std        22.086434\n",
       "min         0.000000\n",
       "25%        94.000000\n",
       "50%       104.000000\n",
       "75%       118.000000\n",
       "max       338.000000\n",
       "Name: runtime, dtype: float64"
      ]
     },
     "execution_count": 29,
     "metadata": {},
     "output_type": "execute_result"
    }
   ],
   "source": [
    "df['runtime'].describe()"
   ]
  },
  {
   "cell_type": "code",
   "execution_count": 30,
   "id": "86266ddf",
   "metadata": {},
   "outputs": [
    {
     "data": {
      "text/plain": [
       "Index(['belongs_to_collection', 'budget', 'genres', 'homepage', 'imdb_id',\n",
       "       'original_language', 'original_title', 'overview', 'popularity',\n",
       "       'poster_path', 'production_companies', 'production_countries',\n",
       "       'release_date', 'runtime', 'spoken_languages', 'status', 'tagline',\n",
       "       'title', 'Keywords', 'cast', 'crew', 'revenue', 'relese_year',\n",
       "       'year_of_relese'],\n",
       "      dtype='object')"
      ]
     },
     "execution_count": 30,
     "metadata": {},
     "output_type": "execute_result"
    }
   ],
   "source": [
    "df.columns"
   ]
  },
  {
   "cell_type": "code",
   "execution_count": 31,
   "id": "82ad368b",
   "metadata": {},
   "outputs": [
    {
     "data": {
      "text/html": [
       "<div>\n",
       "<style scoped>\n",
       "    .dataframe tbody tr th:only-of-type {\n",
       "        vertical-align: middle;\n",
       "    }\n",
       "\n",
       "    .dataframe tbody tr th {\n",
       "        vertical-align: top;\n",
       "    }\n",
       "\n",
       "    .dataframe thead th {\n",
       "        text-align: right;\n",
       "    }\n",
       "</style>\n",
       "<table border=\"1\" class=\"dataframe\">\n",
       "  <thead>\n",
       "    <tr style=\"text-align: right;\">\n",
       "      <th></th>\n",
       "      <th>year_of_relese</th>\n",
       "      <th>original_language</th>\n",
       "      <th>Avg_runtime</th>\n",
       "      <th>Profit</th>\n",
       "      <th>Number of Movies</th>\n",
       "    </tr>\n",
       "  </thead>\n",
       "  <tbody>\n",
       "    <tr>\n",
       "      <th>0</th>\n",
       "      <td>1921</td>\n",
       "      <td>en</td>\n",
       "      <td>68.000000</td>\n",
       "      <td>2500000</td>\n",
       "      <td>1</td>\n",
       "    </tr>\n",
       "    <tr>\n",
       "      <th>1</th>\n",
       "      <td>1924</td>\n",
       "      <td>en</td>\n",
       "      <td>149.000000</td>\n",
       "      <td>1213880</td>\n",
       "      <td>1</td>\n",
       "    </tr>\n",
       "    <tr>\n",
       "      <th>2</th>\n",
       "      <td>1925</td>\n",
       "      <td>en</td>\n",
       "      <td>137.000000</td>\n",
       "      <td>1</td>\n",
       "      <td>1</td>\n",
       "    </tr>\n",
       "    <tr>\n",
       "      <th>3</th>\n",
       "      <td>1925</td>\n",
       "      <td>ru</td>\n",
       "      <td>75.000000</td>\n",
       "      <td>45100</td>\n",
       "      <td>1</td>\n",
       "    </tr>\n",
       "    <tr>\n",
       "      <th>4</th>\n",
       "      <td>1926</td>\n",
       "      <td>en</td>\n",
       "      <td>84.000000</td>\n",
       "      <td>966878</td>\n",
       "      <td>1</td>\n",
       "    </tr>\n",
       "    <tr>\n",
       "      <th>...</th>\n",
       "      <td>...</td>\n",
       "      <td>...</td>\n",
       "      <td>...</td>\n",
       "      <td>...</td>\n",
       "      <td>...</td>\n",
       "    </tr>\n",
       "    <tr>\n",
       "      <th>346</th>\n",
       "      <td>2017</td>\n",
       "      <td>ru</td>\n",
       "      <td>140.000000</td>\n",
       "      <td>9868942</td>\n",
       "      <td>1</td>\n",
       "    </tr>\n",
       "    <tr>\n",
       "      <th>343</th>\n",
       "      <td>2017</td>\n",
       "      <td>en</td>\n",
       "      <td>110.542857</td>\n",
       "      <td>7215048462</td>\n",
       "      <td>35</td>\n",
       "    </tr>\n",
       "    <tr>\n",
       "      <th>344</th>\n",
       "      <td>2017</td>\n",
       "      <td>es</td>\n",
       "      <td>91.500000</td>\n",
       "      <td>6440000</td>\n",
       "      <td>2</td>\n",
       "    </tr>\n",
       "    <tr>\n",
       "      <th>345</th>\n",
       "      <td>2017</td>\n",
       "      <td>fr</td>\n",
       "      <td>86.000000</td>\n",
       "      <td>7800000</td>\n",
       "      <td>1</td>\n",
       "    </tr>\n",
       "    <tr>\n",
       "      <th>347</th>\n",
       "      <td>2017</td>\n",
       "      <td>ta</td>\n",
       "      <td>168.000000</td>\n",
       "      <td>17000000</td>\n",
       "      <td>1</td>\n",
       "    </tr>\n",
       "  </tbody>\n",
       "</table>\n",
       "<p>348 rows × 5 columns</p>\n",
       "</div>"
      ],
      "text/plain": [
       "     year_of_relese original_language  Avg_runtime      Profit  \\\n",
       "0              1921                en    68.000000     2500000   \n",
       "1              1924                en   149.000000     1213880   \n",
       "2              1925                en   137.000000           1   \n",
       "3              1925                ru    75.000000       45100   \n",
       "4              1926                en    84.000000      966878   \n",
       "..              ...               ...          ...         ...   \n",
       "346            2017                ru   140.000000     9868942   \n",
       "343            2017                en   110.542857  7215048462   \n",
       "344            2017                es    91.500000     6440000   \n",
       "345            2017                fr    86.000000     7800000   \n",
       "347            2017                ta   168.000000    17000000   \n",
       "\n",
       "     Number of Movies  \n",
       "0                   1  \n",
       "1                   1  \n",
       "2                   1  \n",
       "3                   1  \n",
       "4                   1  \n",
       "..                ...  \n",
       "346                 1  \n",
       "343                35  \n",
       "344                 2  \n",
       "345                 1  \n",
       "347                 1  \n",
       "\n",
       "[348 rows x 5 columns]"
      ]
     },
     "execution_count": 31,
     "metadata": {},
     "output_type": "execute_result"
    }
   ],
   "source": [
    "df.groupby(['year_of_relese','original_language'],as_index = False).agg({'runtime':'mean','revenue':'sum','imdb_id':'count'}).sort_values(by='year_of_relese').rename(columns={'runtime':'Avg_runtime','revenue':'Profit','imdb_id':'Number of Movies'})\n"
   ]
  },
  {
   "cell_type": "code",
   "execution_count": 33,
   "id": "7c410422",
   "metadata": {},
   "outputs": [
    {
     "data": {
      "text/plain": [
       "(3000, 24)"
      ]
     },
     "execution_count": 33,
     "metadata": {},
     "output_type": "execute_result"
    }
   ],
   "source": [
    "df.shape"
   ]
  },
  {
   "cell_type": "code",
   "execution_count": 35,
   "id": "ff703095",
   "metadata": {},
   "outputs": [
    {
     "name": "stdout",
     "output_type": "stream",
     "text": [
      "<class 'pandas.core.frame.DataFrame'>\n",
      "RangeIndex: 3000 entries, 0 to 2999\n",
      "Data columns (total 23 columns):\n",
      " #   Column                 Non-Null Count  Dtype  \n",
      "---  ------                 --------------  -----  \n",
      " 0   id                     3000 non-null   int64  \n",
      " 1   belongs_to_collection  604 non-null    object \n",
      " 2   budget                 3000 non-null   int64  \n",
      " 3   genres                 2993 non-null   object \n",
      " 4   homepage               946 non-null    object \n",
      " 5   imdb_id                3000 non-null   object \n",
      " 6   original_language      3000 non-null   object \n",
      " 7   original_title         3000 non-null   object \n",
      " 8   overview               2992 non-null   object \n",
      " 9   popularity             3000 non-null   float64\n",
      " 10  poster_path            2999 non-null   object \n",
      " 11  production_companies   2844 non-null   object \n",
      " 12  production_countries   2945 non-null   object \n",
      " 13  release_date           3000 non-null   object \n",
      " 14  runtime                2998 non-null   float64\n",
      " 15  spoken_languages       2980 non-null   object \n",
      " 16  status                 3000 non-null   object \n",
      " 17  tagline                2403 non-null   object \n",
      " 18  title                  3000 non-null   object \n",
      " 19  Keywords               2724 non-null   object \n",
      " 20  cast                   2987 non-null   object \n",
      " 21  crew                   2984 non-null   object \n",
      " 22  revenue                3000 non-null   int64  \n",
      "dtypes: float64(2), int64(3), object(18)\n",
      "memory usage: 539.2+ KB\n"
     ]
    }
   ],
   "source": [
    "df.info()"
   ]
  },
  {
   "cell_type": "code",
   "execution_count": 36,
   "id": "2c6c12ef",
   "metadata": {},
   "outputs": [
    {
     "data": {
      "text/html": [
       "<div>\n",
       "<style scoped>\n",
       "    .dataframe tbody tr th:only-of-type {\n",
       "        vertical-align: middle;\n",
       "    }\n",
       "\n",
       "    .dataframe tbody tr th {\n",
       "        vertical-align: top;\n",
       "    }\n",
       "\n",
       "    .dataframe thead th {\n",
       "        text-align: right;\n",
       "    }\n",
       "</style>\n",
       "<table border=\"1\" class=\"dataframe\">\n",
       "  <thead>\n",
       "    <tr style=\"text-align: right;\">\n",
       "      <th></th>\n",
       "      <th>id</th>\n",
       "      <th>belongs_to_collection</th>\n",
       "      <th>budget</th>\n",
       "      <th>genres</th>\n",
       "      <th>homepage</th>\n",
       "      <th>imdb_id</th>\n",
       "      <th>original_language</th>\n",
       "      <th>original_title</th>\n",
       "      <th>overview</th>\n",
       "      <th>popularity</th>\n",
       "      <th>...</th>\n",
       "      <th>release_date</th>\n",
       "      <th>runtime</th>\n",
       "      <th>spoken_languages</th>\n",
       "      <th>status</th>\n",
       "      <th>tagline</th>\n",
       "      <th>title</th>\n",
       "      <th>Keywords</th>\n",
       "      <th>cast</th>\n",
       "      <th>crew</th>\n",
       "      <th>revenue</th>\n",
       "    </tr>\n",
       "  </thead>\n",
       "  <tbody>\n",
       "    <tr>\n",
       "      <th>0</th>\n",
       "      <td>1</td>\n",
       "      <td>[{'id': 313576, 'name': 'Hot Tub Time Machine ...</td>\n",
       "      <td>14000000</td>\n",
       "      <td>[{'id': 35, 'name': 'Comedy'}]</td>\n",
       "      <td>NaN</td>\n",
       "      <td>tt2637294</td>\n",
       "      <td>en</td>\n",
       "      <td>Hot Tub Time Machine 2</td>\n",
       "      <td>When Lou, who has become the \"father of the In...</td>\n",
       "      <td>6.575393</td>\n",
       "      <td>...</td>\n",
       "      <td>2/20/15</td>\n",
       "      <td>93.0</td>\n",
       "      <td>[{'iso_639_1': 'en', 'name': 'English'}]</td>\n",
       "      <td>Released</td>\n",
       "      <td>The Laws of Space and Time are About to be Vio...</td>\n",
       "      <td>Hot Tub Time Machine 2</td>\n",
       "      <td>[{'id': 4379, 'name': 'time travel'}, {'id': 9...</td>\n",
       "      <td>[{'cast_id': 4, 'character': 'Lou', 'credit_id...</td>\n",
       "      <td>[{'credit_id': '59ac067c92514107af02c8c8', 'de...</td>\n",
       "      <td>12314651</td>\n",
       "    </tr>\n",
       "    <tr>\n",
       "      <th>1</th>\n",
       "      <td>2</td>\n",
       "      <td>[{'id': 107674, 'name': 'The Princess Diaries ...</td>\n",
       "      <td>40000000</td>\n",
       "      <td>[{'id': 35, 'name': 'Comedy'}, {'id': 18, 'nam...</td>\n",
       "      <td>NaN</td>\n",
       "      <td>tt0368933</td>\n",
       "      <td>en</td>\n",
       "      <td>The Princess Diaries 2: Royal Engagement</td>\n",
       "      <td>Mia Thermopolis is now a college graduate and ...</td>\n",
       "      <td>8.248895</td>\n",
       "      <td>...</td>\n",
       "      <td>8/6/04</td>\n",
       "      <td>113.0</td>\n",
       "      <td>[{'iso_639_1': 'en', 'name': 'English'}]</td>\n",
       "      <td>Released</td>\n",
       "      <td>It can take a lifetime to find true love; she'...</td>\n",
       "      <td>The Princess Diaries 2: Royal Engagement</td>\n",
       "      <td>[{'id': 2505, 'name': 'coronation'}, {'id': 42...</td>\n",
       "      <td>[{'cast_id': 1, 'character': 'Mia Thermopolis'...</td>\n",
       "      <td>[{'credit_id': '52fe43fe9251416c7502563d', 'de...</td>\n",
       "      <td>95149435</td>\n",
       "    </tr>\n",
       "  </tbody>\n",
       "</table>\n",
       "<p>2 rows × 23 columns</p>\n",
       "</div>"
      ],
      "text/plain": [
       "   id                              belongs_to_collection    budget  \\\n",
       "0   1  [{'id': 313576, 'name': 'Hot Tub Time Machine ...  14000000   \n",
       "1   2  [{'id': 107674, 'name': 'The Princess Diaries ...  40000000   \n",
       "\n",
       "                                              genres homepage    imdb_id  \\\n",
       "0                     [{'id': 35, 'name': 'Comedy'}]      NaN  tt2637294   \n",
       "1  [{'id': 35, 'name': 'Comedy'}, {'id': 18, 'nam...      NaN  tt0368933   \n",
       "\n",
       "  original_language                            original_title  \\\n",
       "0                en                    Hot Tub Time Machine 2   \n",
       "1                en  The Princess Diaries 2: Royal Engagement   \n",
       "\n",
       "                                            overview  popularity  ...  \\\n",
       "0  When Lou, who has become the \"father of the In...    6.575393  ...   \n",
       "1  Mia Thermopolis is now a college graduate and ...    8.248895  ...   \n",
       "\n",
       "  release_date runtime                          spoken_languages    status  \\\n",
       "0      2/20/15    93.0  [{'iso_639_1': 'en', 'name': 'English'}]  Released   \n",
       "1       8/6/04   113.0  [{'iso_639_1': 'en', 'name': 'English'}]  Released   \n",
       "\n",
       "                                             tagline  \\\n",
       "0  The Laws of Space and Time are About to be Vio...   \n",
       "1  It can take a lifetime to find true love; she'...   \n",
       "\n",
       "                                      title  \\\n",
       "0                    Hot Tub Time Machine 2   \n",
       "1  The Princess Diaries 2: Royal Engagement   \n",
       "\n",
       "                                            Keywords  \\\n",
       "0  [{'id': 4379, 'name': 'time travel'}, {'id': 9...   \n",
       "1  [{'id': 2505, 'name': 'coronation'}, {'id': 42...   \n",
       "\n",
       "                                                cast  \\\n",
       "0  [{'cast_id': 4, 'character': 'Lou', 'credit_id...   \n",
       "1  [{'cast_id': 1, 'character': 'Mia Thermopolis'...   \n",
       "\n",
       "                                                crew   revenue  \n",
       "0  [{'credit_id': '59ac067c92514107af02c8c8', 'de...  12314651  \n",
       "1  [{'credit_id': '52fe43fe9251416c7502563d', 'de...  95149435  \n",
       "\n",
       "[2 rows x 23 columns]"
      ]
     },
     "execution_count": 36,
     "metadata": {},
     "output_type": "execute_result"
    }
   ],
   "source": [
    "df.head(2)"
   ]
  },
  {
   "cell_type": "code",
   "execution_count": 38,
   "id": "94504061",
   "metadata": {},
   "outputs": [
    {
     "data": {
      "text/plain": [
       "array(['id', 'belongs_to_collection', 'budget', 'genres', 'homepage',\n",
       "       'imdb_id', 'original_language', 'original_title', 'overview',\n",
       "       'popularity', 'poster_path', 'production_companies',\n",
       "       'production_countries', 'release_date', 'runtime',\n",
       "       'spoken_languages', 'status', 'tagline', 'title', 'Keywords',\n",
       "       'cast', 'crew', 'revenue'], dtype=object)"
      ]
     },
     "execution_count": 38,
     "metadata": {},
     "output_type": "execute_result"
    }
   ],
   "source": [
    "df.columns.values"
   ]
  },
  {
   "cell_type": "code",
   "execution_count": 39,
   "id": "779dae9d",
   "metadata": {},
   "outputs": [],
   "source": [
    "columns_to_keep = ['budget','genres','original_language','original_title','cast','crew','revenueb']"
   ]
  },
  {
   "cell_type": "code",
   "execution_count": 42,
   "id": "2d51e8d2",
   "metadata": {},
   "outputs": [
    {
     "data": {
      "text/plain": [
       "0                          [{'id': 35, 'name': 'Comedy'}]\n",
       "1       [{'id': 35, 'name': 'Comedy'}, {'id': 18, 'nam...\n",
       "2                           [{'id': 18, 'name': 'Drama'}]\n",
       "3       [{'id': 53, 'name': 'Thriller'}, {'id': 18, 'n...\n",
       "4       [{'id': 28, 'name': 'Action'}, {'id': 53, 'nam...\n",
       "                              ...                        \n",
       "2995    [{'id': 35, 'name': 'Comedy'}, {'id': 10749, '...\n",
       "2996    [{'id': 18, 'name': 'Drama'}, {'id': 10402, 'n...\n",
       "2997    [{'id': 80, 'name': 'Crime'}, {'id': 28, 'name...\n",
       "2998    [{'id': 35, 'name': 'Comedy'}, {'id': 10749, '...\n",
       "2999    [{'id': 53, 'name': 'Thriller'}, {'id': 28, 'n...\n",
       "Name: genres, Length: 2993, dtype: object"
      ]
     },
     "execution_count": 42,
     "metadata": {},
     "output_type": "execute_result"
    }
   ],
   "source": [
    "df.loc[~df['genres'].isna(),'genres']"
   ]
  },
  {
   "cell_type": "code",
   "execution_count": 44,
   "id": "34f9653c",
   "metadata": {},
   "outputs": [
    {
     "data": {
      "text/plain": [
       "str"
      ]
     },
     "execution_count": 44,
     "metadata": {},
     "output_type": "execute_result"
    }
   ],
   "source": [
    "type(df.loc[0,'cast'])"
   ]
  },
  {
   "cell_type": "code",
   "execution_count": 45,
   "id": "3d435551",
   "metadata": {},
   "outputs": [],
   "source": [
    "def convert_to_list(str):\n",
    "    return eval(str)"
   ]
  },
  {
   "cell_type": "code",
   "execution_count": 46,
   "id": "cf87d8c7",
   "metadata": {},
   "outputs": [],
   "source": [
    "df.loc[~df['genres'].isna(),'genres']= df.loc[~df['genres'].isna(),'genres'].apply(convert_to_list)"
   ]
  },
  {
   "cell_type": "code",
   "execution_count": 48,
   "id": "fefbac8e",
   "metadata": {},
   "outputs": [
    {
     "data": {
      "text/plain": [
       "list"
      ]
     },
     "execution_count": 48,
     "metadata": {},
     "output_type": "execute_result"
    }
   ],
   "source": [
    "type(df.loc[0,'genres'])"
   ]
  },
  {
   "cell_type": "code",
   "execution_count": 49,
   "id": "d90f0904",
   "metadata": {},
   "outputs": [],
   "source": [
    "df.loc[~df['cast'].isna(),'cast']= df.loc[~df['cast'].isna(),'cast'].apply(convert_to_list)"
   ]
  },
  {
   "cell_type": "code",
   "execution_count": 50,
   "id": "8c0c427b",
   "metadata": {},
   "outputs": [],
   "source": [
    "df.loc[~df['crew'].isna(),'crew']= df.loc[~df['crew'].isna(),'crew'].apply(convert_to_list)"
   ]
  },
  {
   "cell_type": "code",
   "execution_count": 51,
   "id": "feaa4506",
   "metadata": {},
   "outputs": [
    {
     "data": {
      "text/plain": [
       "list"
      ]
     },
     "execution_count": 51,
     "metadata": {},
     "output_type": "execute_result"
    }
   ],
   "source": [
    "type(df.loc[0,'crew'])"
   ]
  },
  {
   "cell_type": "code",
   "execution_count": 52,
   "id": "4a547d41",
   "metadata": {},
   "outputs": [],
   "source": [
    "imdb_df = df.copy()"
   ]
  },
  {
   "cell_type": "code",
   "execution_count": 55,
   "id": "e70b22bb",
   "metadata": {},
   "outputs": [
    {
     "name": "stdout",
     "output_type": "stream",
     "text": [
      "<class 'pandas.core.frame.DataFrame'>\n",
      "RangeIndex: 3000 entries, 0 to 2999\n",
      "Data columns (total 23 columns):\n",
      " #   Column                 Non-Null Count  Dtype  \n",
      "---  ------                 --------------  -----  \n",
      " 0   id                     3000 non-null   int64  \n",
      " 1   belongs_to_collection  604 non-null    object \n",
      " 2   budget                 3000 non-null   int64  \n",
      " 3   genres                 2993 non-null   object \n",
      " 4   homepage               946 non-null    object \n",
      " 5   imdb_id                3000 non-null   object \n",
      " 6   original_language      3000 non-null   object \n",
      " 7   original_title         3000 non-null   object \n",
      " 8   overview               2992 non-null   object \n",
      " 9   popularity             3000 non-null   float64\n",
      " 10  poster_path            2999 non-null   object \n",
      " 11  production_companies   2844 non-null   object \n",
      " 12  production_countries   2945 non-null   object \n",
      " 13  release_date           3000 non-null   object \n",
      " 14  runtime                2998 non-null   float64\n",
      " 15  spoken_languages       2980 non-null   object \n",
      " 16  status                 3000 non-null   object \n",
      " 17  tagline                2403 non-null   object \n",
      " 18  title                  3000 non-null   object \n",
      " 19  Keywords               2724 non-null   object \n",
      " 20  cast                   2987 non-null   object \n",
      " 21  crew                   2984 non-null   object \n",
      " 22  revenue                3000 non-null   int64  \n",
      "dtypes: float64(2), int64(3), object(18)\n",
      "memory usage: 539.2+ KB\n"
     ]
    }
   ],
   "source": [
    "imdb_df.info()"
   ]
  },
  {
   "cell_type": "code",
   "execution_count": 56,
   "id": "5e3bbf6f",
   "metadata": {},
   "outputs": [
    {
     "data": {
      "text/plain": [
       "count    3.000000e+03\n",
       "mean     6.672585e+07\n",
       "std      1.375323e+08\n",
       "min      1.000000e+00\n",
       "25%      2.379808e+06\n",
       "50%      1.680707e+07\n",
       "75%      6.891920e+07\n",
       "max      1.519558e+09\n",
       "Name: revenue, dtype: float64"
      ]
     },
     "execution_count": 56,
     "metadata": {},
     "output_type": "execute_result"
    }
   ],
   "source": [
    "df['revenue'].describe()"
   ]
  },
  {
   "cell_type": "code",
   "execution_count": 57,
   "id": "33c483f9",
   "metadata": {},
   "outputs": [
    {
     "data": {
      "text/html": [
       "<div>\n",
       "<style scoped>\n",
       "    .dataframe tbody tr th:only-of-type {\n",
       "        vertical-align: middle;\n",
       "    }\n",
       "\n",
       "    .dataframe tbody tr th {\n",
       "        vertical-align: top;\n",
       "    }\n",
       "\n",
       "    .dataframe thead th {\n",
       "        text-align: right;\n",
       "    }\n",
       "</style>\n",
       "<table border=\"1\" class=\"dataframe\">\n",
       "  <thead>\n",
       "    <tr style=\"text-align: right;\">\n",
       "      <th></th>\n",
       "      <th>id</th>\n",
       "      <th>belongs_to_collection</th>\n",
       "      <th>budget</th>\n",
       "      <th>genres</th>\n",
       "      <th>homepage</th>\n",
       "      <th>imdb_id</th>\n",
       "      <th>original_language</th>\n",
       "      <th>original_title</th>\n",
       "      <th>overview</th>\n",
       "      <th>popularity</th>\n",
       "      <th>...</th>\n",
       "      <th>release_date</th>\n",
       "      <th>runtime</th>\n",
       "      <th>spoken_languages</th>\n",
       "      <th>status</th>\n",
       "      <th>tagline</th>\n",
       "      <th>title</th>\n",
       "      <th>Keywords</th>\n",
       "      <th>cast</th>\n",
       "      <th>crew</th>\n",
       "      <th>revenue</th>\n",
       "    </tr>\n",
       "  </thead>\n",
       "  <tbody>\n",
       "    <tr>\n",
       "      <th>0</th>\n",
       "      <td>1</td>\n",
       "      <td>[{'id': 313576, 'name': 'Hot Tub Time Machine ...</td>\n",
       "      <td>14000000</td>\n",
       "      <td>[{'id': 35, 'name': 'Comedy'}]</td>\n",
       "      <td>NaN</td>\n",
       "      <td>tt2637294</td>\n",
       "      <td>en</td>\n",
       "      <td>Hot Tub Time Machine 2</td>\n",
       "      <td>When Lou, who has become the \"father of the In...</td>\n",
       "      <td>6.575393</td>\n",
       "      <td>...</td>\n",
       "      <td>2/20/15</td>\n",
       "      <td>93.0</td>\n",
       "      <td>[{'iso_639_1': 'en', 'name': 'English'}]</td>\n",
       "      <td>Released</td>\n",
       "      <td>The Laws of Space and Time are About to be Vio...</td>\n",
       "      <td>Hot Tub Time Machine 2</td>\n",
       "      <td>[{'id': 4379, 'name': 'time travel'}, {'id': 9...</td>\n",
       "      <td>[{'cast_id': 4, 'character': 'Lou', 'credit_id...</td>\n",
       "      <td>[{'credit_id': '59ac067c92514107af02c8c8', 'de...</td>\n",
       "      <td>12314651</td>\n",
       "    </tr>\n",
       "    <tr>\n",
       "      <th>1</th>\n",
       "      <td>2</td>\n",
       "      <td>[{'id': 107674, 'name': 'The Princess Diaries ...</td>\n",
       "      <td>40000000</td>\n",
       "      <td>[{'id': 35, 'name': 'Comedy'}, {'id': 18, 'nam...</td>\n",
       "      <td>NaN</td>\n",
       "      <td>tt0368933</td>\n",
       "      <td>en</td>\n",
       "      <td>The Princess Diaries 2: Royal Engagement</td>\n",
       "      <td>Mia Thermopolis is now a college graduate and ...</td>\n",
       "      <td>8.248895</td>\n",
       "      <td>...</td>\n",
       "      <td>8/6/04</td>\n",
       "      <td>113.0</td>\n",
       "      <td>[{'iso_639_1': 'en', 'name': 'English'}]</td>\n",
       "      <td>Released</td>\n",
       "      <td>It can take a lifetime to find true love; she'...</td>\n",
       "      <td>The Princess Diaries 2: Royal Engagement</td>\n",
       "      <td>[{'id': 2505, 'name': 'coronation'}, {'id': 42...</td>\n",
       "      <td>[{'cast_id': 1, 'character': 'Mia Thermopolis'...</td>\n",
       "      <td>[{'credit_id': '52fe43fe9251416c7502563d', 'de...</td>\n",
       "      <td>95149435</td>\n",
       "    </tr>\n",
       "    <tr>\n",
       "      <th>2</th>\n",
       "      <td>3</td>\n",
       "      <td>NaN</td>\n",
       "      <td>3300000</td>\n",
       "      <td>[{'id': 18, 'name': 'Drama'}]</td>\n",
       "      <td>http://sonyclassics.com/whiplash/</td>\n",
       "      <td>tt2582802</td>\n",
       "      <td>en</td>\n",
       "      <td>Whiplash</td>\n",
       "      <td>Under the direction of a ruthless instructor, ...</td>\n",
       "      <td>64.299990</td>\n",
       "      <td>...</td>\n",
       "      <td>10/10/14</td>\n",
       "      <td>105.0</td>\n",
       "      <td>[{'iso_639_1': 'en', 'name': 'English'}]</td>\n",
       "      <td>Released</td>\n",
       "      <td>The road to greatness can take you to the edge.</td>\n",
       "      <td>Whiplash</td>\n",
       "      <td>[{'id': 1416, 'name': 'jazz'}, {'id': 1523, 'n...</td>\n",
       "      <td>[{'cast_id': 5, 'character': 'Andrew Neimann',...</td>\n",
       "      <td>[{'credit_id': '54d5356ec3a3683ba0000039', 'de...</td>\n",
       "      <td>13092000</td>\n",
       "    </tr>\n",
       "  </tbody>\n",
       "</table>\n",
       "<p>3 rows × 23 columns</p>\n",
       "</div>"
      ],
      "text/plain": [
       "   id                              belongs_to_collection    budget  \\\n",
       "0   1  [{'id': 313576, 'name': 'Hot Tub Time Machine ...  14000000   \n",
       "1   2  [{'id': 107674, 'name': 'The Princess Diaries ...  40000000   \n",
       "2   3                                                NaN   3300000   \n",
       "\n",
       "                                              genres  \\\n",
       "0                     [{'id': 35, 'name': 'Comedy'}]   \n",
       "1  [{'id': 35, 'name': 'Comedy'}, {'id': 18, 'nam...   \n",
       "2                      [{'id': 18, 'name': 'Drama'}]   \n",
       "\n",
       "                            homepage    imdb_id original_language  \\\n",
       "0                                NaN  tt2637294                en   \n",
       "1                                NaN  tt0368933                en   \n",
       "2  http://sonyclassics.com/whiplash/  tt2582802                en   \n",
       "\n",
       "                             original_title  \\\n",
       "0                    Hot Tub Time Machine 2   \n",
       "1  The Princess Diaries 2: Royal Engagement   \n",
       "2                                  Whiplash   \n",
       "\n",
       "                                            overview  popularity  ...  \\\n",
       "0  When Lou, who has become the \"father of the In...    6.575393  ...   \n",
       "1  Mia Thermopolis is now a college graduate and ...    8.248895  ...   \n",
       "2  Under the direction of a ruthless instructor, ...   64.299990  ...   \n",
       "\n",
       "  release_date runtime                          spoken_languages    status  \\\n",
       "0      2/20/15    93.0  [{'iso_639_1': 'en', 'name': 'English'}]  Released   \n",
       "1       8/6/04   113.0  [{'iso_639_1': 'en', 'name': 'English'}]  Released   \n",
       "2     10/10/14   105.0  [{'iso_639_1': 'en', 'name': 'English'}]  Released   \n",
       "\n",
       "                                             tagline  \\\n",
       "0  The Laws of Space and Time are About to be Vio...   \n",
       "1  It can take a lifetime to find true love; she'...   \n",
       "2    The road to greatness can take you to the edge.   \n",
       "\n",
       "                                      title  \\\n",
       "0                    Hot Tub Time Machine 2   \n",
       "1  The Princess Diaries 2: Royal Engagement   \n",
       "2                                  Whiplash   \n",
       "\n",
       "                                            Keywords  \\\n",
       "0  [{'id': 4379, 'name': 'time travel'}, {'id': 9...   \n",
       "1  [{'id': 2505, 'name': 'coronation'}, {'id': 42...   \n",
       "2  [{'id': 1416, 'name': 'jazz'}, {'id': 1523, 'n...   \n",
       "\n",
       "                                                cast  \\\n",
       "0  [{'cast_id': 4, 'character': 'Lou', 'credit_id...   \n",
       "1  [{'cast_id': 1, 'character': 'Mia Thermopolis'...   \n",
       "2  [{'cast_id': 5, 'character': 'Andrew Neimann',...   \n",
       "\n",
       "                                                crew   revenue  \n",
       "0  [{'credit_id': '59ac067c92514107af02c8c8', 'de...  12314651  \n",
       "1  [{'credit_id': '52fe43fe9251416c7502563d', 'de...  95149435  \n",
       "2  [{'credit_id': '54d5356ec3a3683ba0000039', 'de...  13092000  \n",
       "\n",
       "[3 rows x 23 columns]"
      ]
     },
     "execution_count": 57,
     "metadata": {},
     "output_type": "execute_result"
    }
   ],
   "source": [
    "imdb_df.head(3)"
   ]
  },
  {
   "cell_type": "code",
   "execution_count": 58,
   "id": "49126457",
   "metadata": {},
   "outputs": [],
   "source": [
    "imdb_df.loc[df['budget'] <1000,'budget'] = imdb_df['budget'].median()"
   ]
  },
  {
   "cell_type": "code",
   "execution_count": 61,
   "id": "67b3b447",
   "metadata": {},
   "outputs": [],
   "source": [
    "imdb_df.loc[df['revenue'] <1000,'revenue'] = imdb_df['revenue'].median()"
   ]
  },
  {
   "cell_type": "code",
   "execution_count": 62,
   "id": "33f46836",
   "metadata": {},
   "outputs": [
    {
     "data": {
      "text/html": [
       "<div>\n",
       "<style scoped>\n",
       "    .dataframe tbody tr th:only-of-type {\n",
       "        vertical-align: middle;\n",
       "    }\n",
       "\n",
       "    .dataframe tbody tr th {\n",
       "        vertical-align: top;\n",
       "    }\n",
       "\n",
       "    .dataframe thead th {\n",
       "        text-align: right;\n",
       "    }\n",
       "</style>\n",
       "<table border=\"1\" class=\"dataframe\">\n",
       "  <thead>\n",
       "    <tr style=\"text-align: right;\">\n",
       "      <th></th>\n",
       "      <th>id</th>\n",
       "      <th>budget</th>\n",
       "      <th>popularity</th>\n",
       "      <th>runtime</th>\n",
       "      <th>revenue</th>\n",
       "    </tr>\n",
       "  </thead>\n",
       "  <tbody>\n",
       "    <tr>\n",
       "      <th>count</th>\n",
       "      <td>3000.000000</td>\n",
       "      <td>3.000000e+03</td>\n",
       "      <td>3000.000000</td>\n",
       "      <td>2998.000000</td>\n",
       "      <td>3.000000e+03</td>\n",
       "    </tr>\n",
       "    <tr>\n",
       "      <th>mean</th>\n",
       "      <td>1500.500000</td>\n",
       "      <td>2.253133e+07</td>\n",
       "      <td>8.463274</td>\n",
       "      <td>107.856571</td>\n",
       "      <td>6.672585e+07</td>\n",
       "    </tr>\n",
       "    <tr>\n",
       "      <th>std</th>\n",
       "      <td>866.169729</td>\n",
       "      <td>3.702609e+07</td>\n",
       "      <td>12.104000</td>\n",
       "      <td>22.086434</td>\n",
       "      <td>1.375323e+08</td>\n",
       "    </tr>\n",
       "    <tr>\n",
       "      <th>min</th>\n",
       "      <td>1.000000</td>\n",
       "      <td>0.000000e+00</td>\n",
       "      <td>0.000001</td>\n",
       "      <td>0.000000</td>\n",
       "      <td>1.000000e+00</td>\n",
       "    </tr>\n",
       "    <tr>\n",
       "      <th>25%</th>\n",
       "      <td>750.750000</td>\n",
       "      <td>0.000000e+00</td>\n",
       "      <td>4.018053</td>\n",
       "      <td>94.000000</td>\n",
       "      <td>2.379808e+06</td>\n",
       "    </tr>\n",
       "    <tr>\n",
       "      <th>50%</th>\n",
       "      <td>1500.500000</td>\n",
       "      <td>8.000000e+06</td>\n",
       "      <td>7.374861</td>\n",
       "      <td>104.000000</td>\n",
       "      <td>1.680707e+07</td>\n",
       "    </tr>\n",
       "    <tr>\n",
       "      <th>75%</th>\n",
       "      <td>2250.250000</td>\n",
       "      <td>2.900000e+07</td>\n",
       "      <td>10.890983</td>\n",
       "      <td>118.000000</td>\n",
       "      <td>6.891920e+07</td>\n",
       "    </tr>\n",
       "    <tr>\n",
       "      <th>max</th>\n",
       "      <td>3000.000000</td>\n",
       "      <td>3.800000e+08</td>\n",
       "      <td>294.337037</td>\n",
       "      <td>338.000000</td>\n",
       "      <td>1.519558e+09</td>\n",
       "    </tr>\n",
       "  </tbody>\n",
       "</table>\n",
       "</div>"
      ],
      "text/plain": [
       "                id        budget   popularity      runtime       revenue\n",
       "count  3000.000000  3.000000e+03  3000.000000  2998.000000  3.000000e+03\n",
       "mean   1500.500000  2.253133e+07     8.463274   107.856571  6.672585e+07\n",
       "std     866.169729  3.702609e+07    12.104000    22.086434  1.375323e+08\n",
       "min       1.000000  0.000000e+00     0.000001     0.000000  1.000000e+00\n",
       "25%     750.750000  0.000000e+00     4.018053    94.000000  2.379808e+06\n",
       "50%    1500.500000  8.000000e+06     7.374861   104.000000  1.680707e+07\n",
       "75%    2250.250000  2.900000e+07    10.890983   118.000000  6.891920e+07\n",
       "max    3000.000000  3.800000e+08   294.337037   338.000000  1.519558e+09"
      ]
     },
     "execution_count": 62,
     "metadata": {},
     "output_type": "execute_result"
    }
   ],
   "source": [
    "df.describe()"
   ]
  },
  {
   "cell_type": "code",
   "execution_count": 64,
   "id": "264deb00",
   "metadata": {},
   "outputs": [
    {
     "data": {
      "text/html": [
       "<div>\n",
       "<style scoped>\n",
       "    .dataframe tbody tr th:only-of-type {\n",
       "        vertical-align: middle;\n",
       "    }\n",
       "\n",
       "    .dataframe tbody tr th {\n",
       "        vertical-align: top;\n",
       "    }\n",
       "\n",
       "    .dataframe thead th {\n",
       "        text-align: right;\n",
       "    }\n",
       "</style>\n",
       "<table border=\"1\" class=\"dataframe\">\n",
       "  <thead>\n",
       "    <tr style=\"text-align: right;\">\n",
       "      <th></th>\n",
       "      <th>id</th>\n",
       "      <th>budget</th>\n",
       "      <th>popularity</th>\n",
       "      <th>runtime</th>\n",
       "      <th>revenue</th>\n",
       "    </tr>\n",
       "  </thead>\n",
       "  <tbody>\n",
       "    <tr>\n",
       "      <th>count</th>\n",
       "      <td>3000.000000</td>\n",
       "      <td>3.000000e+03</td>\n",
       "      <td>3000.000000</td>\n",
       "      <td>2998.000000</td>\n",
       "      <td>3.000000e+03</td>\n",
       "    </tr>\n",
       "    <tr>\n",
       "      <th>mean</th>\n",
       "      <td>1500.500000</td>\n",
       "      <td>2.474467e+07</td>\n",
       "      <td>8.463274</td>\n",
       "      <td>107.856571</td>\n",
       "      <td>6.704518e+07</td>\n",
       "    </tr>\n",
       "    <tr>\n",
       "      <th>std</th>\n",
       "      <td>866.169729</td>\n",
       "      <td>3.583254e+07</td>\n",
       "      <td>12.104000</td>\n",
       "      <td>22.086434</td>\n",
       "      <td>1.373964e+08</td>\n",
       "    </tr>\n",
       "    <tr>\n",
       "      <th>min</th>\n",
       "      <td>1.000000</td>\n",
       "      <td>2.500000e+03</td>\n",
       "      <td>0.000001</td>\n",
       "      <td>0.000000</td>\n",
       "      <td>1.404000e+03</td>\n",
       "    </tr>\n",
       "    <tr>\n",
       "      <th>25%</th>\n",
       "      <td>750.750000</td>\n",
       "      <td>8.000000e+06</td>\n",
       "      <td>4.018053</td>\n",
       "      <td>94.000000</td>\n",
       "      <td>2.947600e+06</td>\n",
       "    </tr>\n",
       "    <tr>\n",
       "      <th>50%</th>\n",
       "      <td>1500.500000</td>\n",
       "      <td>8.000000e+06</td>\n",
       "      <td>7.374861</td>\n",
       "      <td>104.000000</td>\n",
       "      <td>1.680873e+07</td>\n",
       "    </tr>\n",
       "    <tr>\n",
       "      <th>75%</th>\n",
       "      <td>2250.250000</td>\n",
       "      <td>2.900000e+07</td>\n",
       "      <td>10.890983</td>\n",
       "      <td>118.000000</td>\n",
       "      <td>6.891920e+07</td>\n",
       "    </tr>\n",
       "    <tr>\n",
       "      <th>max</th>\n",
       "      <td>3000.000000</td>\n",
       "      <td>3.800000e+08</td>\n",
       "      <td>294.337037</td>\n",
       "      <td>338.000000</td>\n",
       "      <td>1.519558e+09</td>\n",
       "    </tr>\n",
       "  </tbody>\n",
       "</table>\n",
       "</div>"
      ],
      "text/plain": [
       "                id        budget   popularity      runtime       revenue\n",
       "count  3000.000000  3.000000e+03  3000.000000  2998.000000  3.000000e+03\n",
       "mean   1500.500000  2.474467e+07     8.463274   107.856571  6.704518e+07\n",
       "std     866.169729  3.583254e+07    12.104000    22.086434  1.373964e+08\n",
       "min       1.000000  2.500000e+03     0.000001     0.000000  1.404000e+03\n",
       "25%     750.750000  8.000000e+06     4.018053    94.000000  2.947600e+06\n",
       "50%    1500.500000  8.000000e+06     7.374861   104.000000  1.680873e+07\n",
       "75%    2250.250000  2.900000e+07    10.890983   118.000000  6.891920e+07\n",
       "max    3000.000000  3.800000e+08   294.337037   338.000000  1.519558e+09"
      ]
     },
     "execution_count": 64,
     "metadata": {},
     "output_type": "execute_result"
    }
   ],
   "source": [
    "imdb_df.describe()"
   ]
  },
  {
   "cell_type": "code",
   "execution_count": 65,
   "id": "22dbf3dc",
   "metadata": {},
   "outputs": [],
   "source": [
    "imdb_df['profit']= imdb_df['revenue'] - imdb_df['budget']"
   ]
  },
  {
   "cell_type": "code",
   "execution_count": 66,
   "id": "03cef79c",
   "metadata": {},
   "outputs": [],
   "source": [
    "imdb_df['ROI'] = (imdb_df['profit']/imdb_df['budget'])*100"
   ]
  },
  {
   "cell_type": "code",
   "execution_count": 67,
   "id": "c3409bbe",
   "metadata": {},
   "outputs": [
    {
     "data": {
      "text/html": [
       "<div>\n",
       "<style scoped>\n",
       "    .dataframe tbody tr th:only-of-type {\n",
       "        vertical-align: middle;\n",
       "    }\n",
       "\n",
       "    .dataframe tbody tr th {\n",
       "        vertical-align: top;\n",
       "    }\n",
       "\n",
       "    .dataframe thead th {\n",
       "        text-align: right;\n",
       "    }\n",
       "</style>\n",
       "<table border=\"1\" class=\"dataframe\">\n",
       "  <thead>\n",
       "    <tr style=\"text-align: right;\">\n",
       "      <th></th>\n",
       "      <th>id</th>\n",
       "      <th>belongs_to_collection</th>\n",
       "      <th>budget</th>\n",
       "      <th>genres</th>\n",
       "      <th>homepage</th>\n",
       "      <th>imdb_id</th>\n",
       "      <th>original_language</th>\n",
       "      <th>original_title</th>\n",
       "      <th>overview</th>\n",
       "      <th>popularity</th>\n",
       "      <th>...</th>\n",
       "      <th>spoken_languages</th>\n",
       "      <th>status</th>\n",
       "      <th>tagline</th>\n",
       "      <th>title</th>\n",
       "      <th>Keywords</th>\n",
       "      <th>cast</th>\n",
       "      <th>crew</th>\n",
       "      <th>revenue</th>\n",
       "      <th>profit</th>\n",
       "      <th>ROI</th>\n",
       "    </tr>\n",
       "  </thead>\n",
       "  <tbody>\n",
       "    <tr>\n",
       "      <th>0</th>\n",
       "      <td>1</td>\n",
       "      <td>[{'id': 313576, 'name': 'Hot Tub Time Machine ...</td>\n",
       "      <td>14000000</td>\n",
       "      <td>[{'id': 35, 'name': 'Comedy'}]</td>\n",
       "      <td>NaN</td>\n",
       "      <td>tt2637294</td>\n",
       "      <td>en</td>\n",
       "      <td>Hot Tub Time Machine 2</td>\n",
       "      <td>When Lou, who has become the \"father of the In...</td>\n",
       "      <td>6.575393</td>\n",
       "      <td>...</td>\n",
       "      <td>[{'iso_639_1': 'en', 'name': 'English'}]</td>\n",
       "      <td>Released</td>\n",
       "      <td>The Laws of Space and Time are About to be Vio...</td>\n",
       "      <td>Hot Tub Time Machine 2</td>\n",
       "      <td>[{'id': 4379, 'name': 'time travel'}, {'id': 9...</td>\n",
       "      <td>[{'cast_id': 4, 'character': 'Lou', 'credit_id...</td>\n",
       "      <td>[{'credit_id': '59ac067c92514107af02c8c8', 'de...</td>\n",
       "      <td>12314651</td>\n",
       "      <td>-1685349</td>\n",
       "      <td>-12.038207</td>\n",
       "    </tr>\n",
       "    <tr>\n",
       "      <th>1</th>\n",
       "      <td>2</td>\n",
       "      <td>[{'id': 107674, 'name': 'The Princess Diaries ...</td>\n",
       "      <td>40000000</td>\n",
       "      <td>[{'id': 35, 'name': 'Comedy'}, {'id': 18, 'nam...</td>\n",
       "      <td>NaN</td>\n",
       "      <td>tt0368933</td>\n",
       "      <td>en</td>\n",
       "      <td>The Princess Diaries 2: Royal Engagement</td>\n",
       "      <td>Mia Thermopolis is now a college graduate and ...</td>\n",
       "      <td>8.248895</td>\n",
       "      <td>...</td>\n",
       "      <td>[{'iso_639_1': 'en', 'name': 'English'}]</td>\n",
       "      <td>Released</td>\n",
       "      <td>It can take a lifetime to find true love; she'...</td>\n",
       "      <td>The Princess Diaries 2: Royal Engagement</td>\n",
       "      <td>[{'id': 2505, 'name': 'coronation'}, {'id': 42...</td>\n",
       "      <td>[{'cast_id': 1, 'character': 'Mia Thermopolis'...</td>\n",
       "      <td>[{'credit_id': '52fe43fe9251416c7502563d', 'de...</td>\n",
       "      <td>95149435</td>\n",
       "      <td>55149435</td>\n",
       "      <td>137.873588</td>\n",
       "    </tr>\n",
       "  </tbody>\n",
       "</table>\n",
       "<p>2 rows × 25 columns</p>\n",
       "</div>"
      ],
      "text/plain": [
       "   id                              belongs_to_collection    budget  \\\n",
       "0   1  [{'id': 313576, 'name': 'Hot Tub Time Machine ...  14000000   \n",
       "1   2  [{'id': 107674, 'name': 'The Princess Diaries ...  40000000   \n",
       "\n",
       "                                              genres homepage    imdb_id  \\\n",
       "0                     [{'id': 35, 'name': 'Comedy'}]      NaN  tt2637294   \n",
       "1  [{'id': 35, 'name': 'Comedy'}, {'id': 18, 'nam...      NaN  tt0368933   \n",
       "\n",
       "  original_language                            original_title  \\\n",
       "0                en                    Hot Tub Time Machine 2   \n",
       "1                en  The Princess Diaries 2: Royal Engagement   \n",
       "\n",
       "                                            overview  popularity  ...  \\\n",
       "0  When Lou, who has become the \"father of the In...    6.575393  ...   \n",
       "1  Mia Thermopolis is now a college graduate and ...    8.248895  ...   \n",
       "\n",
       "                           spoken_languages    status  \\\n",
       "0  [{'iso_639_1': 'en', 'name': 'English'}]  Released   \n",
       "1  [{'iso_639_1': 'en', 'name': 'English'}]  Released   \n",
       "\n",
       "                                             tagline  \\\n",
       "0  The Laws of Space and Time are About to be Vio...   \n",
       "1  It can take a lifetime to find true love; she'...   \n",
       "\n",
       "                                      title  \\\n",
       "0                    Hot Tub Time Machine 2   \n",
       "1  The Princess Diaries 2: Royal Engagement   \n",
       "\n",
       "                                            Keywords  \\\n",
       "0  [{'id': 4379, 'name': 'time travel'}, {'id': 9...   \n",
       "1  [{'id': 2505, 'name': 'coronation'}, {'id': 42...   \n",
       "\n",
       "                                                cast  \\\n",
       "0  [{'cast_id': 4, 'character': 'Lou', 'credit_id...   \n",
       "1  [{'cast_id': 1, 'character': 'Mia Thermopolis'...   \n",
       "\n",
       "                                                crew   revenue    profit  \\\n",
       "0  [{'credit_id': '59ac067c92514107af02c8c8', 'de...  12314651  -1685349   \n",
       "1  [{'credit_id': '52fe43fe9251416c7502563d', 'de...  95149435  55149435   \n",
       "\n",
       "          ROI  \n",
       "0  -12.038207  \n",
       "1  137.873588  \n",
       "\n",
       "[2 rows x 25 columns]"
      ]
     },
     "execution_count": 67,
     "metadata": {},
     "output_type": "execute_result"
    }
   ],
   "source": [
    "imdb_df.head(2)"
   ]
  },
  {
   "cell_type": "code",
   "execution_count": 70,
   "id": "7eaac5e0",
   "metadata": {},
   "outputs": [
    {
     "data": {
      "text/plain": [
       "1316249360"
      ]
     },
     "execution_count": 70,
     "metadata": {},
     "output_type": "execute_result"
    }
   ],
   "source": [
    "## Which movie has highest  profit\n",
    "imdb_df['profit'].max()"
   ]
  },
  {
   "cell_type": "code",
   "execution_count": 71,
   "id": "e85bb9f8",
   "metadata": {},
   "outputs": [
    {
     "data": {
      "text/plain": [
       "1761"
      ]
     },
     "execution_count": 71,
     "metadata": {},
     "output_type": "execute_result"
    }
   ],
   "source": [
    "imdb_df['profit'].idxmax()"
   ]
  },
  {
   "cell_type": "code",
   "execution_count": 74,
   "id": "b0512ed5",
   "metadata": {},
   "outputs": [
    {
     "data": {
      "text/plain": [
       "'Furious 7'"
      ]
     },
     "execution_count": 74,
     "metadata": {},
     "output_type": "execute_result"
    }
   ],
   "source": [
    "imdb_df.loc[(imdb_df['profit'].idxmax()),'original_title']\n",
    "## Most Profitable movie is Furious 7"
   ]
  },
  {
   "cell_type": "code",
   "execution_count": 75,
   "id": "5a2c16ac",
   "metadata": {},
   "outputs": [],
   "source": [
    "## creating the saperate dataframe for max profit movie\n",
    "Most_profitable_movie = imdb_df.loc[imdb_df['profit'].idxmax()]"
   ]
  },
  {
   "cell_type": "code",
   "execution_count": 84,
   "id": "82c7ebe1",
   "metadata": {},
   "outputs": [
    {
     "data": {
      "text/plain": [
       "id                                                                    1762\n",
       "belongs_to_collection    [{'id': 9485, 'name': 'The Fast and the Furiou...\n",
       "budget                                                           190000000\n",
       "genres                                      [{'id': 28, 'name': 'Action'}]\n",
       "homepage                                          http://www.furious7.com/\n",
       "imdb_id                                                          tt2820852\n",
       "original_language                                                       en\n",
       "original_title                                                   Furious 7\n",
       "overview                 Deckard Shaw seeks revenge against Dominic Tor...\n",
       "popularity                                                       27.275687\n",
       "Name: 1761, dtype: object"
      ]
     },
     "execution_count": 84,
     "metadata": {},
     "output_type": "execute_result"
    }
   ],
   "source": [
    "Most_profitable_movie.head(10)"
   ]
  },
  {
   "cell_type": "code",
   "execution_count": 100,
   "id": "add5cec2",
   "metadata": {},
   "outputs": [
    {
     "data": {
      "text/plain": [
       "[{'cast_id': 17,\n",
       "  'character': 'Dominic Toretto',\n",
       "  'credit_id': '5431dfd10e0a265915002c34',\n",
       "  'gender': 2,\n",
       "  'id': 12835,\n",
       "  'name': 'Vin Diesel',\n",
       "  'order': 0,\n",
       "  'profile_path': '/7rwSXluNWZAluYMOEWBxkPmckES.jpg'},\n",
       " {'cast_id': 19,\n",
       "  'character': \"Brian O'Conner\",\n",
       "  'credit_id': '5431dfe4c3a3681143002b98',\n",
       "  'gender': 2,\n",
       "  'id': 8167,\n",
       "  'name': 'Paul Walker',\n",
       "  'order': 1,\n",
       "  'profile_path': '/iqvYezRoEY5k8wnlfHriHQfl5dX.jpg'},\n",
       " {'cast_id': 18,\n",
       "  'character': 'Hobbs',\n",
       "  'credit_id': '5431dfdbc3a36831a6004376',\n",
       "  'gender': 2,\n",
       "  'id': 18918,\n",
       "  'name': 'Dwayne Johnson',\n",
       "  'order': 2,\n",
       "  'profile_path': '/kuqFzlYMc2IrsOyPznMd1FroeGq.jpg'},\n",
       " {'cast_id': 20,\n",
       "  'character': 'Letty',\n",
       "  'credit_id': '5431dfeec3a36811ef002c75',\n",
       "  'gender': 1,\n",
       "  'id': 17647,\n",
       "  'name': 'Michelle Rodriguez',\n",
       "  'order': 3,\n",
       "  'profile_path': '/v37VK0MNuRuJOCKPKJcZAJXRA5r.jpg'},\n",
       " {'cast_id': 28,\n",
       "  'character': 'Roman',\n",
       "  'credit_id': '5431e0310e0a2656e2002c95',\n",
       "  'gender': 2,\n",
       "  'id': 8169,\n",
       "  'name': 'Tyrese Gibson',\n",
       "  'order': 4,\n",
       "  'profile_path': '/a3tyF7QXgeEH0QuEuIzNZZ8oLNS.jpg'}]"
      ]
     },
     "execution_count": 100,
     "metadata": {},
     "output_type": "execute_result"
    }
   ],
   "source": [
    "Most_profitable_movie['cast'][0:5]"
   ]
  },
  {
   "cell_type": "code",
   "execution_count": 89,
   "id": "620077cc",
   "metadata": {},
   "outputs": [],
   "source": [
    "list_of_crew = Most_profitable_movie.loc['crew']"
   ]
  },
  {
   "cell_type": "code",
   "execution_count": 90,
   "id": "0dc0c797",
   "metadata": {},
   "outputs": [
    {
     "name": "stdout",
     "output_type": "stream",
     "text": [
      "[{'credit_id': '52fe4cc8c3a36847f823e681', 'department': 'Production', 'gender': 2, 'id': 12835, 'job': 'Producer', 'name': 'Vin Diesel', 'profile_path': '/7rwSXluNWZAluYMOEWBxkPmckES.jpg'}, {'credit_id': '52fe4cc8c3a36847f823e687', 'department': 'Production', 'gender': 2, 'id': 11874, 'job': 'Producer', 'name': 'Neal H. Moritz', 'profile_path': '/cNcsEYmoS4niCz3UkVAA09dUIob.jpg'}, {'credit_id': '52fe4cc8c3a36847f823e68d', 'department': 'Writing', 'gender': 2, 'id': 58191, 'job': 'Writer', 'name': 'Chris Morgan', 'profile_path': '/dUGxIwFBLrSFLImxjeda1krndMO.jpg'}, {'credit_id': '52fe4cc8c3a36847f823e693', 'department': 'Writing', 'gender': 0, 'id': 8162, 'job': 'Characters', 'name': 'Gary Scott Thompson', 'profile_path': '/e2dMfqFvRsOXgWZ1VToYLmos17y.jpg'}, {'credit_id': '52fe4cc8c3a36847f823e699', 'department': 'Directing', 'gender': 2, 'id': 2127, 'job': 'Director', 'name': 'James Wan', 'profile_path': '/d1LSKfzi5J6QngWS7niN1zPJdud.jpg'}, {'credit_id': '52fe4cc8c3a36847f823e6a7', 'department': 'Camera', 'gender': 2, 'id': 58192, 'job': 'Director of Photography', 'name': 'Stephen F. Windon', 'profile_path': None}, {'credit_id': '5534714692514125dc002be4', 'department': 'Visual Effects', 'gender': 0, 'id': 1455610, 'job': 'Animation', 'name': 'Tony Mecca', 'profile_path': None}, {'credit_id': '554fa7b992514110bd002a9d', 'department': 'Camera', 'gender': 0, 'id': 1421687, 'job': 'Director of Photography', 'name': 'Marc Spicer', 'profile_path': None}, {'credit_id': '554fa7cbc3a36822540047fd', 'department': 'Production', 'gender': 1, 'id': 90635, 'job': 'Executive Producer', 'name': 'Samantha Vincent', 'profile_path': None}, {'credit_id': '554fa7d89251413fcf00773d', 'department': 'Production', 'gender': 0, 'id': 84064, 'job': 'Associate Producer', 'name': 'F. Valentino Morales', 'profile_path': '/w85eCnNP0VgmfV5NWyq2SvRGi2y.jpg'}, {'credit_id': '554fa7f2c3a3682254004803', 'department': 'Production', 'gender': 2, 'id': 8181, 'job': 'Producer', 'name': 'Michael Fottrell', 'profile_path': None}, {'credit_id': '554fa80292514110bd002aa8', 'department': 'Production', 'gender': 0, 'id': 75826, 'job': 'Producer', 'name': 'Brandon Birtell', 'profile_path': None}, {'credit_id': '55ed993ac3a3682c62015607', 'department': 'Editing', 'gender': 0, 'id': 1204244, 'job': 'Editor', 'name': 'Leigh Folsom Boyd', 'profile_path': None}, {'credit_id': '55ed994cc3a3687d3b00d64c', 'department': 'Editing', 'gender': 0, 'id': 1204245, 'job': 'Editor', 'name': 'Dylan Highsmith', 'profile_path': None}, {'credit_id': '55ed995dc3a3682c5d016867', 'department': 'Editing', 'gender': 0, 'id': 62813, 'job': 'Editor', 'name': 'Kirk M. Morri', 'profile_path': None}, {'credit_id': '55ed99739251413e41014641', 'department': 'Editing', 'gender': 2, 'id': 6668, 'job': 'Editor', 'name': 'Christian Wagner', 'profile_path': None}, {'credit_id': '55ed99859251413e3a014aae', 'department': 'Production', 'gender': 1, 'id': 9545, 'job': 'Casting', 'name': 'Anne McCarthy', 'profile_path': None}, {'credit_id': '55ed99a4c3a3682c5d016875', 'department': 'Production', 'gender': 0, 'id': 1276602, 'job': 'Casting', 'name': 'Kellie Roy', 'profile_path': None}, {'credit_id': '55ed99c7c3a3682c5d01687e', 'department': 'Art', 'gender': 0, 'id': 1445830, 'job': 'Art Direction', 'name': 'Jonathan Carlos', 'profile_path': None}, {'credit_id': '55ed99d89251413e32014a65', 'department': 'Art', 'gender': 2, 'id': 62780, 'job': 'Art Direction', 'name': 'Alan Hook', 'profile_path': None}, {'credit_id': '55ed99e992514106d600d85e', 'department': 'Art', 'gender': 0, 'id': 1493864, 'job': 'Art Direction', 'name': 'Jay Pelissier', 'profile_path': None}, {'credit_id': '55ed9a36c3a3682c700147e3', 'department': 'Art', 'gender': 1, 'id': 1506359, 'job': 'Art Department Coordinator', 'name': 'Kelly Richardson', 'profile_path': None}, {'credit_id': '55ed9a52c3a3682c640130c3', 'department': 'Art', 'gender': 0, 'id': 1506360, 'job': 'Art Department Coordinator', 'name': 'Courtney Cocherell', 'profile_path': None}, {'credit_id': '55ed9a6cc3a368090c004f9c', 'department': 'Art', 'gender': 0, 'id': 1326651, 'job': 'Assistant Art Director', 'name': 'Elena Albanese', 'profile_path': None}, {'credit_id': '55ed9a96c3a3686f17003be1', 'department': 'Art', 'gender': 0, 'id': 1405376, 'job': 'Assistant Art Director', 'name': 'Alex McCarroll', 'profile_path': None}, {'credit_id': '55ed9acbc3a3682c640130e4', 'department': 'Art', 'gender': 0, 'id': 1338147, 'job': 'Construction Coordinator', 'name': 'Bruce Di Valerio', 'profile_path': None}, {'credit_id': '55ed9b03c3a3682c640130f5', 'department': 'Art', 'gender': 2, 'id': 52600, 'job': 'Production Design', 'name': 'Bill Brzeski', 'profile_path': None}, {'credit_id': '55ed9b169251413e2f0145a8', 'department': 'Art', 'gender': 1, 'id': 75391, 'job': 'Set Decoration', 'name': 'Danielle Berman', 'profile_path': None}, {'credit_id': '55ed9b29c3a3682c5d0168d9', 'department': 'Costume & Make-Up', 'gender': 1, 'id': 2519, 'job': 'Costume Design', 'name': 'Sanja Milkovic Hays', 'profile_path': None}, {'credit_id': '55ed9bdac3a3682c62015698', 'department': 'Costume & Make-Up', 'gender': 0, 'id': 1439109, 'job': 'Costume Supervisor', 'name': 'Nava R. Sadan', 'profile_path': None}, {'credit_id': '55ed9c0bc3a3686f17003c45', 'department': 'Costume & Make-Up', 'gender': 0, 'id': 1439747, 'job': 'Costume Supervisor', 'name': 'Andrew Hunt', 'profile_path': None}, {'credit_id': '55ed9c3192514106d600d8e0', 'department': 'Costume & Make-Up', 'gender': 0, 'id': 1506364, 'job': 'Set Costumer', 'name': 'Jim Alan Cook', 'profile_path': None}, {'credit_id': '55ed9c45c3a3682c5d016925', 'department': 'Costume & Make-Up', 'gender': 0, 'id': 1415019, 'job': 'Set Costumer', 'name': 'Shayne Allen Duhon', 'profile_path': None}, {'credit_id': '55ed9c579251413e32014af5', 'department': 'Costume & Make-Up', 'gender': 0, 'id': 1506365, 'job': 'Set Costumer', 'name': 'Empress Holley', 'profile_path': None}, {'credit_id': '55ed9c6d9251413e450148ff', 'department': 'Costume & Make-Up', 'gender': 0, 'id': 1413125, 'job': 'Set Costumer', 'name': 'Marina Marit', 'profile_path': None}, {'credit_id': '55ed9c8d92514106d600d8fb', 'department': 'Costume & Make-Up', 'gender': 0, 'id': 1506366, 'job': 'Set Costumer', 'name': 'Les Morgan', 'profile_path': None}, {'credit_id': '55ed9cda9251413e2f014612', 'department': 'Costume & Make-Up', 'gender': 0, 'id': 1408293, 'job': 'Hairstylist', 'name': 'Linda D. Flowers', 'profile_path': None}, {'credit_id': '55ed9cf69251413e2f01461d', 'department': 'Costume & Make-Up', 'gender': 0, 'id': 1412767, 'job': 'Hairstylist', 'name': \"Yesim 'Shimmy' Osman\", 'profile_path': None}, {'credit_id': '55ed9d0ec3a3687d3b00d73a', 'department': 'Costume & Make-Up', 'gender': 0, 'id': 1506367, 'job': 'Hairstylist', 'name': 'Jennifer Santiago', 'profile_path': None}, {'credit_id': '55ed9d2a9251413e3e0155d8', 'department': 'Costume & Make-Up', 'gender': 0, 'id': 1425409, 'job': 'Hairstylist', 'name': 'Rachel Solow', 'profile_path': None}, {'credit_id': '55ed9d4cc3a3682c620156ed', 'department': 'Costume & Make-Up', 'gender': 0, 'id': 1452643, 'job': 'Hairstylist', 'name': 'Roxane Griffin', 'profile_path': None}, {'credit_id': '55ed9d6fc3a3682c5d01696f', 'department': 'Costume & Make-Up', 'gender': 0, 'id': 1309209, 'job': 'Makeup Department Head', 'name': 'James MacKinnon', 'profile_path': None}, {'credit_id': '55ed9d8cc3a368090c00504f', 'department': 'Costume & Make-Up', 'gender': 0, 'id': 1506368, 'job': 'Makeup Artist', 'name': 'Autumn Butler', 'profile_path': None}, {'credit_id': '55ed9da09251413e3a014b98', 'department': 'Costume & Make-Up', 'gender': 0, 'id': 1437798, 'job': 'Makeup Artist', 'name': \"Roxy D'Alonzo\", 'profile_path': None}, {'credit_id': '55ed9db79251413e3a014ba5', 'department': 'Costume & Make-Up', 'gender': 0, 'id': 1506369, 'job': 'Makeup Artist', 'name': 'Hee Soo Kwon', 'profile_path': None}, {'credit_id': '55ed9dce9251413e32014b4e', 'department': 'Costume & Make-Up', 'gender': 1, 'id': 1459196, 'job': 'Makeup Artist', 'name': 'Sarah Mays', 'profile_path': None}, {'credit_id': '55ed9de4c3a3687d3b00d775', 'department': 'Costume & Make-Up', 'gender': 2, 'id': 15330, 'job': 'Makeup Artist', 'name': 'Paul Pattison', 'profile_path': None}, {'credit_id': '55ed9df99251413e3e015610', 'department': 'Costume & Make-Up', 'gender': 0, 'id': 1317667, 'job': 'Makeup Artist', 'name': 'Eleanor Sabaduquia', 'profile_path': None}, {'credit_id': '55ed9e1fc3a3687d3b00d77e', 'department': 'Crew', 'gender': 0, 'id': 1414497, 'job': 'Property Master', 'name': 'Guillaume DeLouche', 'profile_path': None}, {'credit_id': '55ed9e3ac3a368090c005084', 'department': 'Crew', 'gender': 0, 'id': 1464516, 'job': 'Property Master', 'name': 'Douglas T. Madison', 'profile_path': None}, {'credit_id': '55ed9f5d9251413e3e015662', 'department': 'Crew', 'gender': 2, 'id': 57158, 'job': 'Second Unit Cinematographer', 'name': 'Igor Meglic', 'profile_path': None}, {'credit_id': '55ed9fa0c3a3682c6401320f', 'department': 'Crew', 'gender': 0, 'id': 13670, 'job': 'Second Unit Cinematographer', 'name': 'Jacques Haitkin', 'profile_path': None}, {'credit_id': '55ed9fc59251413e32014bbc', 'department': 'Lighting', 'gender': 0, 'id': 1437304, 'job': 'Gaffer', 'name': 'Michael Ambrose', 'profile_path': None}, {'credit_id': '55ed9fe79251413e410147e4', 'department': 'Camera', 'gender': 0, 'id': 1506371, 'job': 'Camera Operator', 'name': 'Denise Bailie', 'profile_path': None}, {'credit_id': '55ed9ffa9251413e3a014c40', 'department': 'Camera', 'gender': 0, 'id': 1506373, 'job': 'Camera Operator', 'name': 'Robert-James Bova', 'profile_path': None}, {'credit_id': '55eda0299251413e3a014c49', 'department': 'Lighting', 'gender': 0, 'id': 1439108, 'job': 'Rigging Gaffer', 'name': 'Tom Fendley', 'profile_path': None}, {'credit_id': '55eda056c3a3682c7001494b', 'department': 'Camera', 'gender': 0, 'id': 1434896, 'job': 'Camera Operator', 'name': 'Sarah Levy', 'profile_path': None}, {'credit_id': '55eda06e9251413e450149ee', 'department': 'Camera', 'gender': 2, 'id': 74989, 'job': 'Camera Operator', 'name': 'Mark Emery Moore', 'profile_path': '/mhjX0FuAXv6SeSLLFHpaaiQbx6P.jpg'}, {'credit_id': '55eda082c3a3682c6b014009', 'department': 'Camera', 'gender': 2, 'id': 1432918, 'job': 'Camera Operator', 'name': 'Daniel Nichols', 'profile_path': None}, {'credit_id': '55eda09d9251413e3e01569d', 'department': 'Camera', 'gender': 0, 'id': 1439104, 'job': 'Camera Operator', 'name': 'Onofrio Nino Pansini', 'profile_path': None}, {'credit_id': '55eda0b59251413e3a014c6c', 'department': 'Camera', 'gender': 0, 'id': 1408356, 'job': 'Camera Operator', 'name': 'David Richert', 'profile_path': None}, {'credit_id': '55eda0d1c3a3686f17003d58', 'department': 'Camera', 'gender': 2, 'id': 1411271, 'job': 'Camera Operator', 'name': 'Michael J. Walker', 'profile_path': None}, {'credit_id': '55eda0f7c3a3687d3b00d81b', 'department': 'Camera', 'gender': 2, 'id': 1378241, 'job': 'Camera Operator', 'name': 'Maurice K. McGuire', 'profile_path': None}, {'credit_id': '55eda1159251413e3e0156bd', 'department': 'Camera', 'gender': 0, 'id': 1411842, 'job': 'Camera Operator', 'name': 'Richard Latham', 'profile_path': None}, {'credit_id': '55eda12c92514106d600da0a', 'department': 'Camera', 'gender': 0, 'id': 1404739, 'job': 'Helicopter Camera', 'name': 'Steve Koster', 'profile_path': None}, {'credit_id': '55eda1939251413e3501498d', 'department': 'Camera', 'gender': 0, 'id': 91122, 'job': 'Helicopter Camera', 'name': 'Dylan Goss', 'profile_path': None}, {'credit_id': '55eda1b39251413e3a014ca8', 'department': 'Camera', 'gender': 0, 'id': 82169, 'job': 'Steadicam Operator', 'name': 'Geoffrey Haley', 'profile_path': None}, {'credit_id': '55eda1c7c3a3686f17003d8c', 'department': 'Camera', 'gender': 0, 'id': 1419105, 'job': 'Still Photographer', 'name': 'Scott Garfield', 'profile_path': None}, {'credit_id': '55eda1dbc3a3686f17003d92', 'department': 'Camera', 'gender': 2, 'id': 1395281, 'job': 'Additional Camera', 'name': 'Bob Gorelick', 'profile_path': None}, {'credit_id': '55eda200c3a3682c5d016a8f', 'department': 'Camera', 'gender': 0, 'id': 1375920, 'job': 'Additional Camera', 'name': 'J. Christopher Campbell', 'profile_path': None}, {'credit_id': '55eda228c3a3682c64013295', 'department': 'Lighting', 'gender': 0, 'id': 1403412, 'job': 'Gaffer', 'name': 'Dan Cornwall', 'profile_path': None}, {'credit_id': '55eda25f92514106d600da4b', 'department': 'Visual Effects', 'gender': 0, 'id': 1442137, 'job': 'Animation Supervisor', 'name': 'Catherine Mullan', 'profile_path': None}, {'credit_id': '55eda292c3a3682c5d016ab2', 'department': 'Sound', 'gender': 0, 'id': 1393405, 'job': 'Music Editor', 'name': 'Robb Boyd', 'profile_path': None}, {'credit_id': '55eda2a9c3a3682c6b014075', 'department': 'Sound', 'gender': 0, 'id': 1328758, 'job': 'Music Editor', 'name': 'Matthew Llewellyn', 'profile_path': None}, {'credit_id': '55eda2c89251413e45014a6d', 'department': 'Directing', 'gender': 0, 'id': 1389138, 'job': 'Script Supervisor', 'name': 'Jody Blose', 'profile_path': None}, {'credit_id': '55eda305c3a3682c700149c1', 'department': 'Directing', 'gender': 0, 'id': 1408365, 'job': 'Script Supervisor', 'name': 'Brenda K. Wachel', 'profile_path': None}, {'credit_id': '55eda32dc3a3686f17003ddd', 'department': 'Crew', 'gender': 2, 'id': 8167, 'job': 'Thanks', 'name': 'Paul Walker', 'profile_path': '/iqvYezRoEY5k8wnlfHriHQfl5dX.jpg'}, {'credit_id': '55eda3b592514106d600da94', 'department': 'Editing', 'gender': 0, 'id': 1400354, 'job': 'Digital Intermediate', 'name': 'Amy Pawlowski', 'profile_path': None}, {'credit_id': '55eda3d792514106d600da9b', 'department': 'Editing', 'gender': 0, 'id': 110262, 'job': 'First Assistant Editor', 'name': 'Richard Conkling', 'profile_path': None}, {'credit_id': '55eda3edc3a3686f17003e0c', 'department': 'Editing', 'gender': 0, 'id': 1194885, 'job': 'First Assistant Editor', 'name': 'Dave  Cory', 'profile_path': None}, {'credit_id': '55eda4169251413e410148ec', 'department': 'Editing', 'gender': 0, 'id': 1439749, 'job': 'First Assistant Editor', 'name': 'Laura Steiger', 'profile_path': None}, {'credit_id': '55eda48092514106d600daba', 'department': 'Visual Effects', 'gender': 0, 'id': 1506377, 'job': 'Animation Supervisor', 'name': 'Daniel Barrett', 'profile_path': '/pplTJP3gCWmP3SMDrXjOt1579MV.jpg'}, {'credit_id': '55eda5109251413e32014cf0', 'department': 'Sound', 'gender': 0, 'id': 12562, 'job': 'ADR & Dubbing', 'name': 'Anna MacKenzie', 'profile_path': None}, {'credit_id': '55eda51ac3a3686f17003e52', 'department': 'Editing', 'gender': 0, 'id': 12562, 'job': 'Dialogue Editor', 'name': 'Anna MacKenzie', 'profile_path': None}, {'credit_id': '55eda539c3a368090c0051c2', 'department': 'Editing', 'gender': 0, 'id': 1342658, 'job': 'Dialogue Editor', 'name': 'Frederick H. Stahly', 'profile_path': None}, {'credit_id': '55eda56a9251413e45014adf', 'department': 'Sound', 'gender': 2, 'id': 1077782, 'job': 'Foley', 'name': 'Gary A. Hecker', 'profile_path': '/qyBUauN3XIS2Mlus3OdGCmrUo0S.jpg'}, {'credit_id': '55eda58292514106d600daf4', 'department': 'Sound', 'gender': 0, 'id': 1367362, 'job': 'Foley', 'name': 'Rick Owens', 'profile_path': None}, {'credit_id': '55eda59ac3a3682c5d016b50', 'department': 'Sound', 'gender': 0, 'id': 1236340, 'job': 'Foley', 'name': 'Dylan Tuomy-Wilhoit', 'profile_path': None}, {'credit_id': '55eda5b09251413e45014af1', 'department': 'Sound', 'gender': 0, 'id': 548445, 'job': 'Foley', 'name': 'Jeffrey Wilhoit', 'profile_path': None}, {'credit_id': '55eda7169251413e45014b3b', 'department': 'Sound', 'gender': 2, 'id': 7239, 'job': 'Sound Designer', 'name': 'Peter Brown', 'profile_path': None}, {'credit_id': '55eda73d9251413e4101498c', 'department': 'Sound', 'gender': 0, 'id': 1392083, 'job': 'Sound Designer', 'name': 'Ann Scibelli', 'profile_path': None}, {'credit_id': '55eda779c3a3682c70014abc', 'department': 'Sound', 'gender': 0, 'id': 1413453, 'job': 'Sound Effects Editor', 'name': 'Stephen P. Robinson', 'profile_path': None}, {'credit_id': '55eda7989251413e3e015838', 'department': 'Sound', 'gender': 0, 'id': 1394131, 'job': 'Sound Re-Recording Mixer', 'name': 'Jon Taylor', 'profile_path': None}, {'credit_id': '55eda7afc3a3686f17003ebf', 'department': 'Sound', 'gender': 0, 'id': 1394130, 'job': 'Sound Re-Recording Mixer', 'name': 'Frank A. Monta√±o', 'profile_path': None}, {'credit_id': '55eda7d79251413e32014e11', 'department': 'Sound', 'gender': 0, 'id': 1309884, 'job': 'Supervising Sound Editor', 'name': 'Joe Dzuban', 'profile_path': None}, {'credit_id': '570bd40dc3a36802a30002d9', 'department': 'Art', 'gender': 0, 'id': 1424153, 'job': 'Supervising Art Director', 'name': 'Desma Murphy', 'profile_path': None}, {'credit_id': '5668cc7a92514174040040f2', 'department': 'Sound', 'gender': 2, 'id': 6041, 'job': 'Original Music Composer', 'name': 'Brian Tyler', 'profile_path': '/22QWiNJj03amY6GT1QPUs7dbdcB.jpg'}, {'credit_id': '58ebe1fa925141281008e943', 'department': 'Production', 'gender': 2, 'id': 58191, 'job': 'Executive Producer', 'name': 'Chris Morgan', 'profile_path': '/dUGxIwFBLrSFLImxjeda1krndMO.jpg'}]\n"
     ]
    }
   ],
   "source": [
    "print(list_of_crew)"
   ]
  },
  {
   "cell_type": "code",
   "execution_count": 92,
   "id": "b8e19f59",
   "metadata": {},
   "outputs": [],
   "source": [
    "director_list=[]\n",
    "producer_list=[]\n"
   ]
  },
  {
   "cell_type": "code",
   "execution_count": 93,
   "id": "14a7f389",
   "metadata": {},
   "outputs": [],
   "source": [
    "for elm in list_of_crew:\n",
    "    if elm['job'] == 'Producer':\n",
    "        producer_list.append(elm['name'])\n",
    "    if elm['job']== 'Director':\n",
    "        director_list.append(elm['name'])"
   ]
  },
  {
   "cell_type": "code",
   "execution_count": 97,
   "id": "f8965b3e",
   "metadata": {},
   "outputs": [
    {
     "name": "stdout",
     "output_type": "stream",
     "text": [
      "['Vin Diesel', 'Neal H. Moritz', 'Michael Fottrell', 'Brandon Birtell']\n"
     ]
    }
   ],
   "source": [
    "print(producer_list)"
   ]
  },
  {
   "cell_type": "code",
   "execution_count": 98,
   "id": "608030bf",
   "metadata": {},
   "outputs": [
    {
     "name": "stdout",
     "output_type": "stream",
     "text": [
      "['James Wan']\n"
     ]
    }
   ],
   "source": [
    "print(director_list)"
   ]
  },
  {
   "cell_type": "code",
   "execution_count": 96,
   "id": "f8a82dc1",
   "metadata": {
    "scrolled": true
   },
   "outputs": [
    {
     "name": "stdout",
     "output_type": "stream",
     "text": [
      "The Names of Directors for most Profitable Movie is :['James Wan']\n"
     ]
    }
   ],
   "source": [
    "print(f'The Names of Directors for most Profitable Movie is :{director_list}')"
   ]
  },
  {
   "cell_type": "code",
   "execution_count": 99,
   "id": "4aa49041",
   "metadata": {},
   "outputs": [
    {
     "name": "stdout",
     "output_type": "stream",
     "text": [
      "The Names of Directors for most Profitable Movie is :['Vin Diesel', 'Neal H. Moritz', 'Michael Fottrell', 'Brandon Birtell']\n"
     ]
    }
   ],
   "source": [
    "print(f'The Names of Directors for most Profitable Movie is :{producer_list}')"
   ]
  },
  {
   "cell_type": "code",
   "execution_count": 107,
   "id": "8114712a",
   "metadata": {},
   "outputs": [],
   "source": [
    "List_of_actors = []"
   ]
  },
  {
   "cell_type": "code",
   "execution_count": 105,
   "id": "ffeacd8a",
   "metadata": {},
   "outputs": [],
   "source": [
    "list_of_cast = Most_profitable_movie.loc['cast']"
   ]
  },
  {
   "cell_type": "code",
   "execution_count": 106,
   "id": "d3481e1e",
   "metadata": {},
   "outputs": [
    {
     "data": {
      "text/plain": [
       "[{'cast_id': 17,\n",
       "  'character': 'Dominic Toretto',\n",
       "  'credit_id': '5431dfd10e0a265915002c34',\n",
       "  'gender': 2,\n",
       "  'id': 12835,\n",
       "  'name': 'Vin Diesel',\n",
       "  'order': 0,\n",
       "  'profile_path': '/7rwSXluNWZAluYMOEWBxkPmckES.jpg'},\n",
       " {'cast_id': 19,\n",
       "  'character': \"Brian O'Conner\",\n",
       "  'credit_id': '5431dfe4c3a3681143002b98',\n",
       "  'gender': 2,\n",
       "  'id': 8167,\n",
       "  'name': 'Paul Walker',\n",
       "  'order': 1,\n",
       "  'profile_path': '/iqvYezRoEY5k8wnlfHriHQfl5dX.jpg'},\n",
       " {'cast_id': 18,\n",
       "  'character': 'Hobbs',\n",
       "  'credit_id': '5431dfdbc3a36831a6004376',\n",
       "  'gender': 2,\n",
       "  'id': 18918,\n",
       "  'name': 'Dwayne Johnson',\n",
       "  'order': 2,\n",
       "  'profile_path': '/kuqFzlYMc2IrsOyPznMd1FroeGq.jpg'}]"
      ]
     },
     "execution_count": 106,
     "metadata": {},
     "output_type": "execute_result"
    }
   ],
   "source": [
    "list_of_cast[0:3]"
   ]
  },
  {
   "cell_type": "code",
   "execution_count": 110,
   "id": "652d8e15",
   "metadata": {},
   "outputs": [],
   "source": [
    "for elm in list_of_cast:\n",
    "    List_of_actors.append(elm['name'])"
   ]
  },
  {
   "cell_type": "code",
   "execution_count": 112,
   "id": "d5d81412",
   "metadata": {
    "scrolled": true
   },
   "outputs": [
    {
     "name": "stdout",
     "output_type": "stream",
     "text": [
      "['Vin Diesel', 'Paul Walker', 'Dwayne Johnson', 'Michelle Rodriguez', 'Tyrese Gibson', 'Ludacris', 'Jordana Brewster', 'Djimon Hounsou', 'Tony Jaa', 'Ronda Rousey', 'Nathalie Emmanuel', 'Kurt Russell', 'Jason Statham', 'Sung Kang', 'Gal Gadot', 'Lucas Black', 'Elsa Pataky', 'Noel Gugliemi', 'John Brotherton', 'Luke Evans', 'Ali Fazal', 'Miller Kimsey', 'Charlie Kimsey', 'Eden Estrella', 'Gentry White', 'Iggy Azalea', 'Jon Lee Brody', 'Levy Tran', 'Anna Colwell', 'Viktor Hernandez', 'Steve Coulter', 'Robert Pralgo', 'Antwan Mills', 'J.J. Phillips', 'Jorge Ferragut', 'Sara Sohn', 'Benjamin Blankenship', 'D.J. Hapa', 'T-Pain', 'Brian Mahoney', 'Brittney Alger', 'Romeo Santos', 'Jocelin Donahue', 'Stephanie Langston', 'Jorge-Luis Pallo', 'Tego Calder√≥n', 'Nathalie Kelley', 'Shad Moss', 'Don Omar', 'Klement Tinaj', 'Caleb Walker', 'Cody Walker']\n"
     ]
    }
   ],
   "source": [
    "print(List_of_actors)"
   ]
  },
  {
   "cell_type": "code",
   "execution_count": 118,
   "id": "6063f2fc",
   "metadata": {},
   "outputs": [
    {
     "data": {
      "text/plain": [
       "['Vin Diesel',\n",
       " 'Paul Walker',\n",
       " 'Dwayne Johnson',\n",
       " 'Michelle Rodriguez',\n",
       " 'Tyrese Gibson',\n",
       " 'Ludacris',\n",
       " 'Jordana Brewster',\n",
       " 'Djimon Hounsou',\n",
       " 'Tony Jaa',\n",
       " 'Ronda Rousey',\n",
       " 'Nathalie Emmanuel',\n",
       " 'Kurt Russell',\n",
       " 'Jason Statham',\n",
       " 'Sung Kang',\n",
       " 'Gal Gadot',\n",
       " 'Lucas Black',\n",
       " 'Elsa Pataky',\n",
       " 'Noel Gugliemi',\n",
       " 'John Brotherton',\n",
       " 'Luke Evans',\n",
       " 'Ali Fazal',\n",
       " 'Miller Kimsey',\n",
       " 'Charlie Kimsey',\n",
       " 'Eden Estrella',\n",
       " 'Gentry White',\n",
       " 'Iggy Azalea',\n",
       " 'Jon Lee Brody',\n",
       " 'Levy Tran',\n",
       " 'Anna Colwell',\n",
       " 'Viktor Hernandez',\n",
       " 'Steve Coulter',\n",
       " 'Robert Pralgo',\n",
       " 'Antwan Mills',\n",
       " 'J.J. Phillips',\n",
       " 'Jorge Ferragut',\n",
       " 'Sara Sohn',\n",
       " 'Benjamin Blankenship',\n",
       " 'D.J. Hapa',\n",
       " 'T-Pain',\n",
       " 'Brian Mahoney',\n",
       " 'Brittney Alger',\n",
       " 'Romeo Santos',\n",
       " 'Jocelin Donahue',\n",
       " 'Stephanie Langston',\n",
       " 'Jorge-Luis Pallo',\n",
       " 'Tego Calder√≥n',\n",
       " 'Nathalie Kelley',\n",
       " 'Shad Moss',\n",
       " 'Don Omar',\n",
       " 'Klement Tinaj',\n",
       " 'Caleb Walker',\n",
       " 'Cody Walker']"
      ]
     },
     "execution_count": 118,
     "metadata": {},
     "output_type": "execute_result"
    }
   ],
   "source": [
    "List_of_actors"
   ]
  },
  {
   "cell_type": "code",
   "execution_count": null,
   "id": "35b85d34",
   "metadata": {},
   "outputs": [],
   "source": [
    "##This data has information about movies made in different languages. \n",
    "## Which language has the highest average ROI (return on investment)?"
   ]
  },
  {
   "cell_type": "code",
   "execution_count": 135,
   "id": "ae44ffb9",
   "metadata": {},
   "outputs": [],
   "source": [
    " language_has_highest_avg_ROI = imdb_df.groupby('original_language')['ROI'].mean().reset_index().sort_values(by='ROI',ascending=False).iloc[0,0]"
   ]
  },
  {
   "cell_type": "code",
   "execution_count": 136,
   "id": "953bf03c",
   "metadata": {},
   "outputs": [
    {
     "name": "stdout",
     "output_type": "stream",
     "text": [
      "The laguage has highest average of ROI is: ko\n"
     ]
    }
   ],
   "source": [
    "print(f'The laguage has highest average of ROI is: {language_has_highest_avg_ROI}')"
   ]
  },
  {
   "cell_type": "code",
   "execution_count": 142,
   "id": "50bf404e",
   "metadata": {},
   "outputs": [],
   "source": [
    "no_null_genre = imdb_df.loc[~df['genres'].isna()]"
   ]
  },
  {
   "cell_type": "code",
   "execution_count": 143,
   "id": "5e80b79c",
   "metadata": {},
   "outputs": [
    {
     "data": {
      "text/plain": [
       "2993"
      ]
     },
     "execution_count": 143,
     "metadata": {},
     "output_type": "execute_result"
    }
   ],
   "source": [
    "len(no_null_genre)"
   ]
  },
  {
   "cell_type": "code",
   "execution_count": 144,
   "id": "3e8a4aa7",
   "metadata": {},
   "outputs": [
    {
     "data": {
      "text/plain": [
       "pandas.core.frame.DataFrame"
      ]
     },
     "execution_count": 144,
     "metadata": {},
     "output_type": "execute_result"
    }
   ],
   "source": [
    "type(no_null_genre)"
   ]
  },
  {
   "cell_type": "code",
   "execution_count": 145,
   "id": "04a5f132",
   "metadata": {},
   "outputs": [
    {
     "data": {
      "text/plain": [
       "[{'id': 35, 'name': 'Comedy'}]"
      ]
     },
     "execution_count": 145,
     "metadata": {},
     "output_type": "execute_result"
    }
   ],
   "source": [
    "no_null_genre.loc[0,'genres']"
   ]
  },
  {
   "cell_type": "code",
   "execution_count": 146,
   "id": "659088df",
   "metadata": {},
   "outputs": [],
   "source": [
    "gen_list = []"
   ]
  },
  {
   "cell_type": "code",
   "execution_count": 149,
   "id": "01b299c0",
   "metadata": {},
   "outputs": [],
   "source": [
    "for index,row in no_null_genre.iterrows():\n",
    "    gener = no_null_genre.loc[index,'genres']\n",
    "    for elm in gener:\n",
    "        gen_list.append(elm['name'])"
   ]
  },
  {
   "cell_type": "code",
   "execution_count": 151,
   "id": "015d2679",
   "metadata": {},
   "outputs": [
    {
     "data": {
      "text/plain": [
       "7511"
      ]
     },
     "execution_count": 151,
     "metadata": {},
     "output_type": "execute_result"
    }
   ],
   "source": [
    "len(gen_list)"
   ]
  },
  {
   "cell_type": "code",
   "execution_count": 152,
   "id": "aa2319ea",
   "metadata": {},
   "outputs": [
    {
     "data": {
      "text/plain": [
       "{'Action',\n",
       " 'Adventure',\n",
       " 'Animation',\n",
       " 'Comedy',\n",
       " 'Crime',\n",
       " 'Documentary',\n",
       " 'Drama',\n",
       " 'Family',\n",
       " 'Fantasy',\n",
       " 'Foreign',\n",
       " 'History',\n",
       " 'Horror',\n",
       " 'Music',\n",
       " 'Mystery',\n",
       " 'Romance',\n",
       " 'Science Fiction',\n",
       " 'TV Movie',\n",
       " 'Thriller',\n",
       " 'War',\n",
       " 'Western'}"
      ]
     },
     "execution_count": 152,
     "metadata": {},
     "output_type": "execute_result"
    }
   ],
   "source": [
    "set(gen_list)"
   ]
  },
  {
   "cell_type": "code",
   "execution_count": 154,
   "id": "df524280",
   "metadata": {},
   "outputs": [
    {
     "data": {
      "text/html": [
       "<div>\n",
       "<style scoped>\n",
       "    .dataframe tbody tr th:only-of-type {\n",
       "        vertical-align: middle;\n",
       "    }\n",
       "\n",
       "    .dataframe tbody tr th {\n",
       "        vertical-align: top;\n",
       "    }\n",
       "\n",
       "    .dataframe thead th {\n",
       "        text-align: right;\n",
       "    }\n",
       "</style>\n",
       "<table border=\"1\" class=\"dataframe\">\n",
       "  <thead>\n",
       "    <tr style=\"text-align: right;\">\n",
       "      <th></th>\n",
       "      <th>Unique_genres</th>\n",
       "    </tr>\n",
       "  </thead>\n",
       "  <tbody>\n",
       "    <tr>\n",
       "      <th>0</th>\n",
       "      <td>Action</td>\n",
       "    </tr>\n",
       "    <tr>\n",
       "      <th>1</th>\n",
       "      <td>Animation</td>\n",
       "    </tr>\n",
       "    <tr>\n",
       "      <th>2</th>\n",
       "      <td>TV Movie</td>\n",
       "    </tr>\n",
       "    <tr>\n",
       "      <th>3</th>\n",
       "      <td>War</td>\n",
       "    </tr>\n",
       "    <tr>\n",
       "      <th>4</th>\n",
       "      <td>Family</td>\n",
       "    </tr>\n",
       "    <tr>\n",
       "      <th>5</th>\n",
       "      <td>History</td>\n",
       "    </tr>\n",
       "    <tr>\n",
       "      <th>6</th>\n",
       "      <td>Foreign</td>\n",
       "    </tr>\n",
       "    <tr>\n",
       "      <th>7</th>\n",
       "      <td>Drama</td>\n",
       "    </tr>\n",
       "    <tr>\n",
       "      <th>8</th>\n",
       "      <td>Horror</td>\n",
       "    </tr>\n",
       "    <tr>\n",
       "      <th>9</th>\n",
       "      <td>Adventure</td>\n",
       "    </tr>\n",
       "    <tr>\n",
       "      <th>10</th>\n",
       "      <td>Fantasy</td>\n",
       "    </tr>\n",
       "    <tr>\n",
       "      <th>11</th>\n",
       "      <td>Documentary</td>\n",
       "    </tr>\n",
       "    <tr>\n",
       "      <th>12</th>\n",
       "      <td>Western</td>\n",
       "    </tr>\n",
       "    <tr>\n",
       "      <th>13</th>\n",
       "      <td>Thriller</td>\n",
       "    </tr>\n",
       "    <tr>\n",
       "      <th>14</th>\n",
       "      <td>Crime</td>\n",
       "    </tr>\n",
       "    <tr>\n",
       "      <th>15</th>\n",
       "      <td>Romance</td>\n",
       "    </tr>\n",
       "    <tr>\n",
       "      <th>16</th>\n",
       "      <td>Mystery</td>\n",
       "    </tr>\n",
       "    <tr>\n",
       "      <th>17</th>\n",
       "      <td>Science Fiction</td>\n",
       "    </tr>\n",
       "    <tr>\n",
       "      <th>18</th>\n",
       "      <td>Comedy</td>\n",
       "    </tr>\n",
       "    <tr>\n",
       "      <th>19</th>\n",
       "      <td>Music</td>\n",
       "    </tr>\n",
       "  </tbody>\n",
       "</table>\n",
       "</div>"
      ],
      "text/plain": [
       "      Unique_genres\n",
       "0            Action\n",
       "1         Animation\n",
       "2          TV Movie\n",
       "3               War\n",
       "4            Family\n",
       "5           History\n",
       "6           Foreign\n",
       "7             Drama\n",
       "8            Horror\n",
       "9         Adventure\n",
       "10          Fantasy\n",
       "11      Documentary\n",
       "12          Western\n",
       "13         Thriller\n",
       "14            Crime\n",
       "15          Romance\n",
       "16          Mystery\n",
       "17  Science Fiction\n",
       "18           Comedy\n",
       "19            Music"
      ]
     },
     "execution_count": 154,
     "metadata": {},
     "output_type": "execute_result"
    }
   ],
   "source": [
    "## Getting the unique genres in all movies\n",
    "pd.DataFrame(set(gen_list),columns=['Unique_genres'])"
   ]
  },
  {
   "cell_type": "code",
   "execution_count": null,
   "id": "e4be310d",
   "metadata": {},
   "outputs": [],
   "source": [
    "##Make a table of all the producers and directors of each movie. Find the top 3 producers who have produced movies with\n",
    "##the highest average RoI?\n"
   ]
  },
  {
   "cell_type": "code",
   "execution_count": 235,
   "id": "315cacb3",
   "metadata": {},
   "outputs": [],
   "source": [
    "no_null_crew = imdb_df[~imdb_df['crew'].isna()]"
   ]
  },
  {
   "cell_type": "code",
   "execution_count": 236,
   "id": "a3731993",
   "metadata": {},
   "outputs": [
    {
     "data": {
      "text/plain": [
       "(2984, 25)"
      ]
     },
     "execution_count": 236,
     "metadata": {},
     "output_type": "execute_result"
    }
   ],
   "source": [
    "no_null_crew.shape"
   ]
  },
  {
   "cell_type": "code",
   "execution_count": 237,
   "id": "4328a2ed",
   "metadata": {},
   "outputs": [],
   "source": [
    "def create_producer_list(index):\n",
    "    movie_index = no_null_crew.iloc[index]\n",
    "    crew_list = movie_index.loc['crew']\n",
    "    list_of_producer = []\n",
    "    for elm in crew_list:\n",
    "        if elm['job']== 'Producer':\n",
    "            list_of_producer.append(elm['name'])\n",
    "    return list_of_producer\n",
    "          "
   ]
  },
  {
   "cell_type": "code",
   "execution_count": 238,
   "id": "ac171c0d",
   "metadata": {},
   "outputs": [
    {
     "data": {
      "text/plain": [
       "['Whitney Houston', 'Mario Iscovich', 'Debra Martin Chase']"
      ]
     },
     "execution_count": 238,
     "metadata": {},
     "output_type": "execute_result"
    }
   ],
   "source": [
    "create_producer_list(1)"
   ]
  },
  {
   "cell_type": "code",
   "execution_count": 239,
   "id": "8c39c1ff",
   "metadata": {},
   "outputs": [],
   "source": [
    "def create_director_list(index):\n",
    "    movie_index = no_null_crew.iloc[index]\n",
    "    crew_list = movie_index.loc['crew']\n",
    "    list_of_producer = []\n",
    "    for elm in crew_list:\n",
    "        if elm['job']== 'Director':\n",
    "            list_of_producer.append(elm['name'])\n",
    "    return list_of_producer"
   ]
  },
  {
   "cell_type": "code",
   "execution_count": 240,
   "id": "5cc89e7b",
   "metadata": {},
   "outputs": [
    {
     "data": {
      "text/plain": [
       "['Garry Marshall']"
      ]
     },
     "execution_count": 240,
     "metadata": {},
     "output_type": "execute_result"
    }
   ],
   "source": [
    "create_director_list(1)"
   ]
  },
  {
   "cell_type": "code",
   "execution_count": 241,
   "id": "cb077a2e",
   "metadata": {},
   "outputs": [],
   "source": [
    "Table = pd.DataFrame(columns = ['Movie Name','Diarectors','Producers','roi'])"
   ]
  },
  {
   "cell_type": "code",
   "execution_count": 242,
   "id": "7136f84d",
   "metadata": {},
   "outputs": [
    {
     "data": {
      "text/html": [
       "<div>\n",
       "<style scoped>\n",
       "    .dataframe tbody tr th:only-of-type {\n",
       "        vertical-align: middle;\n",
       "    }\n",
       "\n",
       "    .dataframe tbody tr th {\n",
       "        vertical-align: top;\n",
       "    }\n",
       "\n",
       "    .dataframe thead th {\n",
       "        text-align: right;\n",
       "    }\n",
       "</style>\n",
       "<table border=\"1\" class=\"dataframe\">\n",
       "  <thead>\n",
       "    <tr style=\"text-align: right;\">\n",
       "      <th></th>\n",
       "      <th>Movie Name</th>\n",
       "      <th>Diarectors</th>\n",
       "      <th>Producers</th>\n",
       "      <th>roi</th>\n",
       "    </tr>\n",
       "  </thead>\n",
       "  <tbody>\n",
       "  </tbody>\n",
       "</table>\n",
       "</div>"
      ],
      "text/plain": [
       "Empty DataFrame\n",
       "Columns: [Movie Name, Diarectors, Producers, roi]\n",
       "Index: []"
      ]
     },
     "execution_count": 242,
     "metadata": {},
     "output_type": "execute_result"
    }
   ],
   "source": [
    "Table"
   ]
  },
  {
   "cell_type": "code",
   "execution_count": 243,
   "id": "77c3c8f0",
   "metadata": {},
   "outputs": [],
   "source": [
    "for index,row in no_null_crew.iterrows():\n",
    "    \n",
    "    try:\n",
    "        Table = table.concat({'Movie Name': no_null_crew.loc[index,'original_title'],'Diarectors':create_director_list(index),'Producers':create_producer_list(index),'roi': no_null_crew.loc[index,'ROI'] },ignore_index=True)\n",
    "    except:\n",
    "        continue"
   ]
  },
  {
   "cell_type": "code",
   "execution_count": 245,
   "id": "f533073c",
   "metadata": {},
   "outputs": [
    {
     "data": {
      "text/html": [
       "<div>\n",
       "<style scoped>\n",
       "    .dataframe tbody tr th:only-of-type {\n",
       "        vertical-align: middle;\n",
       "    }\n",
       "\n",
       "    .dataframe tbody tr th {\n",
       "        vertical-align: top;\n",
       "    }\n",
       "\n",
       "    .dataframe thead th {\n",
       "        text-align: right;\n",
       "    }\n",
       "</style>\n",
       "<table border=\"1\" class=\"dataframe\">\n",
       "  <thead>\n",
       "    <tr style=\"text-align: right;\">\n",
       "      <th></th>\n",
       "      <th>Movie Name</th>\n",
       "      <th>Diarectors</th>\n",
       "      <th>Producers</th>\n",
       "      <th>roi</th>\n",
       "    </tr>\n",
       "  </thead>\n",
       "  <tbody>\n",
       "  </tbody>\n",
       "</table>\n",
       "</div>"
      ],
      "text/plain": [
       "Empty DataFrame\n",
       "Columns: [Movie Name, Diarectors, Producers, roi]\n",
       "Index: []"
      ]
     },
     "execution_count": 245,
     "metadata": {},
     "output_type": "execute_result"
    }
   ],
   "source": [
    "table.head(1)"
   ]
  },
  {
   "cell_type": "code",
   "execution_count": 229,
   "id": "4837f0fa",
   "metadata": {
    "scrolled": true
   },
   "outputs": [
    {
     "name": "stdout",
     "output_type": "stream",
     "text": [
      "<class 'pandas.core.frame.DataFrame'>\n",
      "Index: 0 entries\n",
      "Data columns (total 4 columns):\n",
      " #   Column      Non-Null Count  Dtype \n",
      "---  ------      --------------  ----- \n",
      " 0   Movie Name  0 non-null      object\n",
      " 1   Diarectors  0 non-null      object\n",
      " 2   Producers   0 non-null      object\n",
      " 3   roi         0 non-null      object\n",
      "dtypes: object(4)\n",
      "memory usage: 0.0+ bytes\n"
     ]
    }
   ],
   "source": [
    "table.info()"
   ]
  },
  {
   "cell_type": "code",
   "execution_count": 220,
   "id": "baa8469e",
   "metadata": {},
   "outputs": [],
   "source": [
    "table['ROI'] = table['ROI'].mean()"
   ]
  },
  {
   "cell_type": "code",
   "execution_count": 221,
   "id": "f2e8e16f",
   "metadata": {},
   "outputs": [
    {
     "data": {
      "text/html": [
       "<div>\n",
       "<style scoped>\n",
       "    .dataframe tbody tr th:only-of-type {\n",
       "        vertical-align: middle;\n",
       "    }\n",
       "\n",
       "    .dataframe tbody tr th {\n",
       "        vertical-align: top;\n",
       "    }\n",
       "\n",
       "    .dataframe thead th {\n",
       "        text-align: right;\n",
       "    }\n",
       "</style>\n",
       "<table border=\"1\" class=\"dataframe\">\n",
       "  <thead>\n",
       "    <tr style=\"text-align: right;\">\n",
       "      <th></th>\n",
       "      <th>Movie Name</th>\n",
       "      <th>Diarectors</th>\n",
       "      <th>Producers</th>\n",
       "      <th>ROI</th>\n",
       "    </tr>\n",
       "  </thead>\n",
       "  <tbody>\n",
       "    <tr>\n",
       "      <th>0</th>\n",
       "      <td>Hot Tub Time Machine 2</td>\n",
       "      <td>[Steve Pink]</td>\n",
       "      <td>[Andrew Panay]</td>\n",
       "      <td>925.340918</td>\n",
       "    </tr>\n",
       "    <tr>\n",
       "      <th>1</th>\n",
       "      <td>The Princess Diaries 2: Royal Engagement</td>\n",
       "      <td>[Garry Marshall]</td>\n",
       "      <td>[Whitney Houston, Mario Iscovich, Debra Martin...</td>\n",
       "      <td>925.340918</td>\n",
       "    </tr>\n",
       "    <tr>\n",
       "      <th>2</th>\n",
       "      <td>Whiplash</td>\n",
       "      <td>[Damien Chazelle]</td>\n",
       "      <td>[David Lancaster, Michel Litvak, Jason Blum, H...</td>\n",
       "      <td>925.340918</td>\n",
       "    </tr>\n",
       "    <tr>\n",
       "      <th>3</th>\n",
       "      <td>Kahaani</td>\n",
       "      <td>[Sujoy Ghosh]</td>\n",
       "      <td>[Sujoy Ghosh]</td>\n",
       "      <td>925.340918</td>\n",
       "    </tr>\n",
       "    <tr>\n",
       "      <th>4</th>\n",
       "      <td>마린보이</td>\n",
       "      <td>[Jong-seok Yoon]</td>\n",
       "      <td>[]</td>\n",
       "      <td>925.340918</td>\n",
       "    </tr>\n",
       "  </tbody>\n",
       "</table>\n",
       "</div>"
      ],
      "text/plain": [
       "                                 Movie Name         Diarectors  \\\n",
       "0                    Hot Tub Time Machine 2       [Steve Pink]   \n",
       "1  The Princess Diaries 2: Royal Engagement   [Garry Marshall]   \n",
       "2                                  Whiplash  [Damien Chazelle]   \n",
       "3                                   Kahaani      [Sujoy Ghosh]   \n",
       "4                                      마린보이   [Jong-seok Yoon]   \n",
       "\n",
       "                                           Producers         ROI  \n",
       "0                                     [Andrew Panay]  925.340918  \n",
       "1  [Whitney Houston, Mario Iscovich, Debra Martin...  925.340918  \n",
       "2  [David Lancaster, Michel Litvak, Jason Blum, H...  925.340918  \n",
       "3                                      [Sujoy Ghosh]  925.340918  \n",
       "4                                                 []  925.340918  "
      ]
     },
     "execution_count": 221,
     "metadata": {},
     "output_type": "execute_result"
    }
   ],
   "source": [
    "table.head()"
   ]
  },
  {
   "cell_type": "code",
   "execution_count": null,
   "id": "9a905890",
   "metadata": {},
   "outputs": [],
   "source": []
  }
 ],
 "metadata": {
  "kernelspec": {
   "display_name": "Python 3 (ipykernel)",
   "language": "python",
   "name": "python3"
  },
  "language_info": {
   "codemirror_mode": {
    "name": "ipython",
    "version": 3
   },
   "file_extension": ".py",
   "mimetype": "text/x-python",
   "name": "python",
   "nbconvert_exporter": "python",
   "pygments_lexer": "ipython3",
   "version": "3.11.4"
  }
 },
 "nbformat": 4,
 "nbformat_minor": 5
}
